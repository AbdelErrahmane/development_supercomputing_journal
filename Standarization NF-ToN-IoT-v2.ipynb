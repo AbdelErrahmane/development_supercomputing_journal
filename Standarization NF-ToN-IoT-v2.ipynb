{
 "cells": [
  {
   "cell_type": "code",
   "execution_count": null,
   "metadata": {},
   "outputs": [],
   "source": [
    "# Initialize Modin and Joblib for parallel and distributed processing\n",
    "import os\n",
    "os.environ[\"MODIN_ENGINE\"] = \"ray\"  # Use Ray as Modin backend\n",
    "import modin.pandas as pd\n",
    "import joblib\n",
    "import warnings\n",
    "warnings.filterwarnings('ignore')\n",
    "\n",
    "# Now, use 'pd' as you would with pandas, but with distributed execution"
   ]
  },
  {
   "cell_type": "markdown",
   "metadata": {},
   "source": [
    "# Parallel and Distributed Data Processing with Modin and Joblib\n",
    "This notebook leverages Modin and Joblib libraries to accelerate data processing and model training:\n",
    "\n",
    "- **Modin** is used as a drop-in replacement for pandas to enable distributed and parallel data manipulation, making it possible to process large datasets efficiently across multiple CPU cores or clusters.\n",
    "- **Joblib** is used to parallelize model training and evaluation, enabling efficient use of computational resources during machine learning workflows.\n",
    "\n",
    "To use Modin, simply replace `import pandas as pd` with `import modin.pandas as pd`. Modin can be configured to run on Ray or Dask backends for distributed execution."
   ]
  },
  {
   "cell_type": "code",
   "execution_count": 2,
   "metadata": {},
   "outputs": [],
   "source": [
    "import pandas as pd\n",
    "import warnings\n",
    "warnings.filterwarnings('ignore')\n",
    "\n",
    "ton_iot = pd.read_csv('NF-ToN-IoT-v2.csv')\n"
   ]
  },
  {
   "cell_type": "code",
   "execution_count": 3,
   "metadata": {},
   "outputs": [
    {
     "data": {
      "text/plain": [
       "(16940496, 45)"
      ]
     },
     "execution_count": 3,
     "metadata": {},
     "output_type": "execute_result"
    }
   ],
   "source": [
    "ton_iot.shape"
   ]
  },
  {
   "cell_type": "markdown",
   "metadata": {},
   "source": [
    "### Deletes features from "
   ]
  },
  {
   "cell_type": "code",
   "execution_count": 4,
   "metadata": {},
   "outputs": [],
   "source": [
    "categorical_feature = ['L4_SRC_PORT','L4_DST_PORT','IPV4_SRC_ADDR',\n",
    "                       'IPV4_DST_ADDR','PROTOCOL','L7_PROTO','DNS_QUERY_TYPE','ICMP_TYPE'\n",
    "                        ,'ICMP_IPV4_TYPE','DNS_TTL_ANSWER']\n",
    "\n",
    "not_used = ['DNS_QUERY_ID','FTP_COMMAND_RET_CODE']\n",
    "\n",
    "tagets = ['Attack','Label']\n",
    "\n",
    "to_drop_corr_col = ['SERVER_TCP_FLAGS', 'MAX_TTL', 'MAX_IP_PKT_LEN', 'RETRANSMITTED_OUT_PKTS']\n",
    "\n",
    "to_drop_VIF = ['NUM_PKTS_1024_TO_1514_BYTES', 'CLIENT_TCP_FLAGS']\n",
    "\n",
    "to_drop = categorical_feature+not_used+tagets + to_drop_corr_col + to_drop_VIF\n",
    "\n",
    "X_Numerical = ton_iot.drop(columns=to_drop)\n",
    "\n",
    "\n"
   ]
  },
  {
   "cell_type": "code",
   "execution_count": 5,
   "metadata": {},
   "outputs": [],
   "source": [
    "X_Numerical['SRC_TO_DST_SECOND_BYTES'] = X_Numerical['SRC_TO_DST_SECOND_BYTES'].astype(int)\n",
    "X_Numerical['DST_TO_SRC_SECOND_BYTES'] = X_Numerical['DST_TO_SRC_SECOND_BYTES'].astype(int)"
   ]
  },
  {
   "cell_type": "code",
   "execution_count": 6,
   "metadata": {},
   "outputs": [
    {
     "data": {
      "text/plain": [
       "(16940496, 25)"
      ]
     },
     "execution_count": 6,
     "metadata": {},
     "output_type": "execute_result"
    }
   ],
   "source": [
    "X_Numerical.shape"
   ]
  },
  {
   "cell_type": "markdown",
   "metadata": {},
   "source": [
    "## Scaling of Numerical value using  quantile"
   ]
  },
  {
   "cell_type": "code",
   "execution_count": 7,
   "metadata": {},
   "outputs": [],
   "source": [
    "from sklearn.preprocessing import StandardScaler\n",
    "\n",
    "scaler = StandardScaler()\n",
    "\n",
    "X_Numerical_sc = pd.DataFrame()\n",
    "\n",
    "scaler.fit(X_Numerical)\n",
    "\n",
    "X_Numerical_sc[X_Numerical.columns] = scaler.transform(X_Numerical)"
   ]
  },
  {
   "cell_type": "code",
   "execution_count": 8,
   "metadata": {},
   "outputs": [
    {
     "data": {
      "text/plain": [
       "(16940496, 25)"
      ]
     },
     "execution_count": 8,
     "metadata": {},
     "output_type": "execute_result"
    }
   ],
   "source": [
    "X_Numerical_sc.shape"
   ]
  },
  {
   "cell_type": "code",
   "execution_count": 9,
   "metadata": {},
   "outputs": [
    {
     "name": "stdout",
     "output_type": "stream",
     "text": [
      "Numerical\n",
      "20.0\n",
      "12.5\n",
      "5.0\n",
      "categorical\n",
      "8.0\n",
      "5.0\n",
      "2.0\n"
     ]
    }
   ],
   "source": [
    "print('Numerical')\n",
    "print(25*0.8)\n",
    "print(25*0.5)\n",
    "print(25*0.2)\n",
    "print('categorical')\n",
    "print(10*0.8)\n",
    "print(10*0.5)\n",
    "print(10*0.2)"
   ]
  },
  {
   "cell_type": "code",
   "execution_count": 10,
   "metadata": {},
   "outputs": [
    {
     "name": "stdout",
     "output_type": "stream",
     "text": [
      "Label\n",
      "1    10841027\n",
      "0     6099469\n",
      "Name: count, dtype: int64\n",
      "Attack\n",
      "Benign        6099469\n",
      "scanning      3781419\n",
      "xss           2455020\n",
      "ddos          2026234\n",
      "password      1153323\n",
      "dos            712609\n",
      "injection      684465\n",
      "backdoor        16809\n",
      "mitm             7723\n",
      "ransomware       3425\n",
      "Name: count, dtype: int64\n"
     ]
    }
   ],
   "source": [
    "y_b = ton_iot['Label']\n",
    "\n",
    "y_multi =  ton_iot['Attack']\n",
    "print(y_b.value_counts())\n",
    "print(y_multi.value_counts())"
   ]
  },
  {
   "cell_type": "markdown",
   "metadata": {},
   "source": [
    "## Scale data"
   ]
  },
  {
   "cell_type": "code",
   "execution_count": 11,
   "metadata": {},
   "outputs": [],
   "source": [
    "from sklearn.feature_selection import f_classif, SelectKBest\n",
    "\n",
    "sb = SelectKBest(f_classif, k=5)\n",
    "sb.fit(X_Numerical_sc,y_b)\n",
    "col_anova_20 = sb.get_feature_names_out()\n",
    "\n",
    "##########################\n",
    "sb = SelectKBest(f_classif, k=13)\n",
    "sb.fit(X_Numerical_sc,y_b)\n",
    "col_anova_50 = sb.get_feature_names_out()\n",
    "\n",
    "##########################\n",
    "sb = SelectKBest(f_classif, k=20)\n",
    "sb.fit(X_Numerical_sc,y_b)\n",
    "col_anova_80 = sb.get_feature_names_out()"
   ]
  },
  {
   "cell_type": "code",
   "execution_count": 12,
   "metadata": {},
   "outputs": [
    {
     "data": {
      "text/plain": [
       "array([ True, False, False, False,  True,  True,  True,  True,  True,\n",
       "        True,  True,  True, False, False,  True,  True,  True,  True,\n",
       "        True,  True,  True,  True,  True,  True,  True])"
      ]
     },
     "execution_count": 12,
     "metadata": {},
     "output_type": "execute_result"
    }
   ],
   "source": [
    "sb.get_support()"
   ]
  },
  {
   "cell_type": "code",
   "execution_count": 13,
   "metadata": {},
   "outputs": [],
   "source": [
    "X_A_20 = X_Numerical_sc[col_anova_20]\n",
    "X_A_50 = X_Numerical_sc[col_anova_50]\n",
    "X_A_80 = X_Numerical_sc[col_anova_80]"
   ]
  },
  {
   "cell_type": "code",
   "execution_count": 14,
   "metadata": {},
   "outputs": [
    {
     "data": {
      "text/plain": [
       "['IN_BYTES',\n",
       " 'TCP_FLAGS',\n",
       " 'FLOW_DURATION_MILLISECONDS',\n",
       " 'DURATION_IN',\n",
       " 'DURATION_OUT',\n",
       " 'MIN_TTL',\n",
       " 'LONGEST_FLOW_PKT',\n",
       " 'SHORTEST_FLOW_PKT',\n",
       " 'MIN_IP_PKT_LEN',\n",
       " 'RETRANSMITTED_IN_BYTES',\n",
       " 'RETRANSMITTED_IN_PKTS',\n",
       " 'RETRANSMITTED_OUT_BYTES',\n",
       " 'SRC_TO_DST_AVG_THROUGHPUT',\n",
       " 'DST_TO_SRC_AVG_THROUGHPUT',\n",
       " 'NUM_PKTS_UP_TO_128_BYTES',\n",
       " 'NUM_PKTS_128_TO_256_BYTES',\n",
       " 'NUM_PKTS_256_TO_512_BYTES',\n",
       " 'NUM_PKTS_512_TO_1024_BYTES',\n",
       " 'TCP_WIN_MAX_IN',\n",
       " 'TCP_WIN_MAX_OUT']"
      ]
     },
     "execution_count": 14,
     "metadata": {},
     "output_type": "execute_result"
    }
   ],
   "source": [
    "list(col_anova_80)"
   ]
  },
  {
   "cell_type": "markdown",
   "metadata": {},
   "source": [
    "## Kendall"
   ]
  },
  {
   "cell_type": "code",
   "execution_count": 15,
   "metadata": {},
   "outputs": [],
   "source": [
    "from scipy.stats import kendalltau\n",
    "features = [col for col in X_Numerical_sc.columns if col ]\n",
    "kendall_tau_scores = {}\n",
    "for feature in features:\n",
    "    kendall_tau, _ = kendalltau(X_Numerical_sc[feature], y_b)\n",
    "    kendall_tau_scores[feature] = kendall_tau\n",
    "    \n",
    "sorted_kendall_tau_scores = sorted(kendall_tau_scores.items(), key=lambda x: abs(x[1]), reverse=True)\n",
    "\n",
    "col_kendall_20 = [feature for feature, score in sorted_kendall_tau_scores[:5]]\n",
    "col_kendall_50 = [feature for feature, score in sorted_kendall_tau_scores[:13]]\n",
    "col_kendall_80 = [feature for feature, score in sorted_kendall_tau_scores[:20]]\n"
   ]
  },
  {
   "cell_type": "code",
   "execution_count": 16,
   "metadata": {},
   "outputs": [
    {
     "data": {
      "text/plain": [
       "Index(['LONGEST_FLOW_PKT', 'IN_BYTES', 'SRC_TO_DST_SECOND_BYTES',\n",
       "       'TCP_WIN_MAX_IN', 'OUT_BYTES', 'NUM_PKTS_UP_TO_128_BYTES',\n",
       "       'DST_TO_SRC_SECOND_BYTES', 'MIN_IP_PKT_LEN', 'OUT_PKTS', 'MIN_TTL',\n",
       "       'TCP_WIN_MAX_OUT', 'IN_PKTS', 'SHORTEST_FLOW_PKT',\n",
       "       'SRC_TO_DST_AVG_THROUGHPUT', 'DST_TO_SRC_AVG_THROUGHPUT',\n",
       "       'NUM_PKTS_512_TO_1024_BYTES', 'DURATION_OUT',\n",
       "       'NUM_PKTS_256_TO_512_BYTES', 'FLOW_DURATION_MILLISECONDS',\n",
       "       'DURATION_IN'],\n",
       "      dtype='object')"
      ]
     },
     "execution_count": 16,
     "metadata": {},
     "output_type": "execute_result"
    }
   ],
   "source": [
    "X_K_20 = X_Numerical_sc[col_kendall_20]\n",
    "X_K_50 = X_Numerical_sc[col_kendall_50]\n",
    "X_K_80 = X_Numerical_sc[col_kendall_80]\n",
    "X_K_80.columns"
   ]
  },
  {
   "cell_type": "code",
   "execution_count": 17,
   "metadata": {},
   "outputs": [
    {
     "data": {
      "text/plain": [
       "['LONGEST_FLOW_PKT',\n",
       " 'IN_BYTES',\n",
       " 'SRC_TO_DST_SECOND_BYTES',\n",
       " 'TCP_WIN_MAX_IN',\n",
       " 'OUT_BYTES',\n",
       " 'NUM_PKTS_UP_TO_128_BYTES',\n",
       " 'DST_TO_SRC_SECOND_BYTES',\n",
       " 'MIN_IP_PKT_LEN',\n",
       " 'OUT_PKTS',\n",
       " 'MIN_TTL',\n",
       " 'TCP_WIN_MAX_OUT',\n",
       " 'IN_PKTS',\n",
       " 'SHORTEST_FLOW_PKT',\n",
       " 'SRC_TO_DST_AVG_THROUGHPUT',\n",
       " 'DST_TO_SRC_AVG_THROUGHPUT',\n",
       " 'NUM_PKTS_512_TO_1024_BYTES',\n",
       " 'DURATION_OUT',\n",
       " 'NUM_PKTS_256_TO_512_BYTES',\n",
       " 'FLOW_DURATION_MILLISECONDS',\n",
       " 'DURATION_IN']"
      ]
     },
     "execution_count": 17,
     "metadata": {},
     "output_type": "execute_result"
    }
   ],
   "source": [
    "list(X_K_80.columns)"
   ]
  },
  {
   "cell_type": "markdown",
   "metadata": {},
   "source": [
    "## PCA"
   ]
  },
  {
   "cell_type": "code",
   "execution_count": 18,
   "metadata": {},
   "outputs": [
    {
     "data": {
      "image/png": "[encoded data removed]",
      "text/plain": [
       "<Figure size 640x480 with 1 Axes>"
      ]
     },
     "metadata": {},
     "output_type": "display_data"
    }
   ],
   "source": [
    "from sklearn.preprocessing import StandardScaler\n",
    "from sklearn.decomposition import PCA \n",
    "import matplotlib.pyplot as plt\n",
    "import numpy as np \n",
    "\n",
    "pca = PCA(n_components=13)\n",
    "\n",
    "#\n",
    "X_train_pca = pca.fit_transform(X_Numerical_sc)\n",
    "\n",
    "exp_var_pca = pca.explained_variance_ratio_\n",
    "\n",
    "cum_sum_eigenvalues = np.cumsum(exp_var_pca)\n",
    "\n",
    "\n",
    "plt.bar(range(0,len(exp_var_pca)), exp_var_pca, alpha=0.5, align='center', label='Individual explained variance')\n",
    "plt.step(range(0,len(cum_sum_eigenvalues)), cum_sum_eigenvalues, where='mid',label='Cumulative explained variance')\n",
    "plt.ylabel('Explained variance ratio')\n",
    "plt.xlabel('Principal component index')\n",
    "plt.legend(loc='best')\n",
    "plt.tight_layout()\n",
    "plt.show()"
   ]
  },
  {
   "cell_type": "code",
   "execution_count": 19,
   "metadata": {},
   "outputs": [],
   "source": [
    "X_train_pca.shape\n",
    "columns_pca = [f\"C{idx}\" for idx in range(13) ]\n",
    "X_PCA = pd.DataFrame(X_train_pca,columns=columns_pca)\n"
   ]
  },
  {
   "cell_type": "code",
   "execution_count": 20,
   "metadata": {},
   "outputs": [
    {
     "data": {
      "text/plain": [
       "array([0.18715969, 0.29103669, 0.37435815, 0.44389889, 0.5088901 ,\n",
       "       0.56445741, 0.61422666, 0.6615947 , 0.70231383, 0.74104321,\n",
       "       0.77872896, 0.8115653 , 0.84095978])"
      ]
     },
     "execution_count": 20,
     "metadata": {},
     "output_type": "execute_result"
    }
   ],
   "source": [
    "cum_sum_eigenvalues"
   ]
  },
  {
   "cell_type": "code",
   "execution_count": 21,
   "metadata": {},
   "outputs": [],
   "source": [
    "X_cat = ton_iot[categorical_feature]"
   ]
  },
  {
   "cell_type": "markdown",
   "metadata": {},
   "source": [
    "# Optimize the features"
   ]
  },
  {
   "cell_type": "markdown",
   "metadata": {},
   "source": [
    "### L4_SRC_PORT & L4_DST_PORT"
   ]
  },
  {
   "cell_type": "markdown",
   "metadata": {},
   "source": [
    "Ports with numbers 0–1023 are called system or well-known ports; ports with numbers 1024-49151 are called user or registered ports, and ports with numbers 49152-65535 are called dynamic, private or ephemeral ports.[2] Both system and user ports are used by transport protocols (TCP, UDP, DCCP, SCTP) to identify an application or service."
   ]
  },
  {
   "cell_type": "code",
   "execution_count": 22,
   "metadata": {},
   "outputs": [],
   "source": [
    "well_known_port = list(range(1024))\n",
    "registered_ports = list(range(1024,49152))\n",
    "ephemeral_ports = list(range(49152,65535))"
   ]
  },
  {
   "cell_type": "code",
   "execution_count": 23,
   "metadata": {},
   "outputs": [
    {
     "name": "stdout",
     "output_type": "stream",
     "text": [
      "(16940496, 10)\n"
     ]
    }
   ],
   "source": [
    "X_cat['L4_SRC_PORT_C'] = 'Others'\n",
    "X_cat['L4_SRC_PORT_C'][X_cat['L4_SRC_PORT'].isin(well_known_port)] = 'well_known_port'\n",
    "X_cat['L4_SRC_PORT_C'][X_cat['L4_SRC_PORT'].isin(registered_ports)] = 'registered_ports'\n",
    "X_cat['L4_SRC_PORT_C'][X_cat['L4_SRC_PORT'].isin(ephemeral_ports)] = 'ephemeral_ports'\n",
    "\n",
    "X_cat.drop(columns=['L4_SRC_PORT'],inplace=True)\n",
    "\n",
    "X_cat['L4_SRC_PORT_C'].value_counts()\n",
    "\n",
    "print(X_cat.shape)"
   ]
  },
  {
   "cell_type": "code",
   "execution_count": null,
   "metadata": {},
   "outputs": [],
   "source": []
  },
  {
   "cell_type": "code",
   "execution_count": 24,
   "metadata": {},
   "outputs": [
    {
     "data": {
      "text/plain": [
       "L4_DST_PORT_C\n",
       "well_known_port     9232384\n",
       "registered_ports    6540544\n",
       "ephemeral_ports     1167508\n",
       "Others                   60\n",
       "Name: count, dtype: int64"
      ]
     },
     "execution_count": 24,
     "metadata": {},
     "output_type": "execute_result"
    }
   ],
   "source": [
    "X_cat['L4_DST_PORT_C'] = 'Others'\n",
    "X_cat['L4_DST_PORT_C'][X_cat['L4_DST_PORT'].isin(well_known_port)] = 'well_known_port'\n",
    "X_cat['L4_DST_PORT_C'][X_cat['L4_DST_PORT'].isin(registered_ports)] = 'registered_ports'\n",
    "X_cat['L4_DST_PORT_C'][X_cat['L4_DST_PORT'].isin(ephemeral_ports)] = 'ephemeral_ports'\n",
    "\n",
    "X_cat.drop(columns=['L4_DST_PORT'],inplace=True)\n",
    "X_cat['L4_DST_PORT_C'].value_counts()\n"
   ]
  },
  {
   "cell_type": "markdown",
   "metadata": {},
   "source": [
    "#### Removerd features are :\n",
    "\n",
    "to_drop_zero = ['RETRANSMITTED_IN_BYTES','RETRANSMITTED_IN_PKTS','RETRANSMITTED_OUT_BYTES','FTP_COMMAND_RET_CODE','ICMP_TYPE','DNS_TTL_ANSWER']\n",
    "&&\n",
    "\n",
    "['SERVER_TCP_FLAGS', 'MAX_TTL', 'MAX_IP_PKT_LEN', 'RETRANSMITTED_OUT_PKTS', 'ICMP_IPV4_TYPE']"
   ]
  },
  {
   "cell_type": "markdown",
   "metadata": {},
   "source": [
    "## DNS"
   ]
  },
  {
   "cell_type": "raw",
   "metadata": {},
   "source": [
    "DNS type"
   ]
  },
  {
   "cell_type": "code",
   "execution_count": 25,
   "metadata": {},
   "outputs": [
    {
     "data": {
      "text/plain": [
       "DNS_QUERY_TYPE\n",
       "0        14542314\n",
       "1         1568107\n",
       "Other      744822\n",
       "12          80496\n",
       "2            4757\n",
       "Name: count, dtype: int64"
      ]
     },
     "execution_count": 25,
     "metadata": {},
     "output_type": "execute_result"
    }
   ],
   "source": [
    "X_cat['DNS_QUERY_TYPE'] = X_cat['DNS_QUERY_TYPE'].astype('O')\n",
    "list_proto = [0,1,2,12]\n",
    "X_cat['DNS_QUERY_TYPE'][~X_cat['DNS_QUERY_TYPE'].isin(list_proto)] = 'Other'\n",
    "X_cat['DNS_QUERY_TYPE'].value_counts()"
   ]
  },
  {
   "cell_type": "raw",
   "metadata": {},
   "source": [
    "### TCP"
   ]
  },
  {
   "cell_type": "markdown",
   "metadata": {},
   "source": [
    "### PROTOCOL"
   ]
  },
  {
   "cell_type": "code",
   "execution_count": 26,
   "metadata": {},
   "outputs": [
    {
     "data": {
      "text/plain": [
       "PROTOCOL\n",
       "6     14427073\n",
       "17     2491336\n",
       "1        17933\n",
       "2         2912\n",
       "58        1241\n",
       "44           1\n",
       "Name: count, dtype: int64"
      ]
     },
     "execution_count": 26,
     "metadata": {},
     "output_type": "execute_result"
    }
   ],
   "source": [
    "X_cat['PROTOCOL'] = X_cat['PROTOCOL'].astype(int)\n",
    "\n",
    "X_cat['PROTOCOL'].value_counts()"
   ]
  },
  {
   "cell_type": "code",
   "execution_count": 27,
   "metadata": {},
   "outputs": [
    {
     "name": "stdout",
     "output_type": "stream",
     "text": [
      "(16940496, 10)\n"
     ]
    }
   ],
   "source": [
    "print(X_cat.shape)"
   ]
  },
  {
   "cell_type": "code",
   "execution_count": 28,
   "metadata": {},
   "outputs": [
    {
     "data": {
      "text/plain": [
       "PROTOCOL\n",
       "6     14427073\n",
       "17     2491336\n",
       "1        17933\n",
       "2         2912\n",
       "58        1241\n",
       "44           1\n",
       "Name: count, dtype: int64"
      ]
     },
     "execution_count": 28,
     "metadata": {},
     "output_type": "execute_result"
    }
   ],
   "source": [
    "X_cat['PROTOCOL'].value_counts()"
   ]
  },
  {
   "cell_type": "markdown",
   "metadata": {},
   "source": [
    "### L7_PROTO"
   ]
  },
  {
   "cell_type": "code",
   "execution_count": 29,
   "metadata": {},
   "outputs": [
    {
     "data": {
      "text/plain": [
       "L7_PROTO\n",
       "0.0      10290531\n",
       "7.0       3999392\n",
       "91.0      1732694\n",
       "Other      489304\n",
       "7.178      199531\n",
       "1.0        131682\n",
       "92.0        38579\n",
       "131.0       30118\n",
       "5.178       28665\n",
       "Name: count, dtype: int64"
      ]
     },
     "execution_count": 29,
     "metadata": {},
     "output_type": "execute_result"
    }
   ],
   "source": [
    "X_cat['L7_PROTO'] = X_cat['L7_PROTO'].astype('O')\n",
    "list_proto = [0,7,91,7.178,1,92,131,5.178]\n",
    "X_cat['L7_PROTO'][~X_cat['L7_PROTO'].isin(list_proto)] = 'Other'\n",
    "X_cat['L7_PROTO'].value_counts()"
   ]
  },
  {
   "cell_type": "markdown",
   "metadata": {},
   "source": [
    "#### Adresses"
   ]
  },
  {
   "cell_type": "markdown",
   "metadata": {},
   "source": [
    "### Adress Range"
   ]
  },
  {
   "cell_type": "code",
   "execution_count": 30,
   "metadata": {},
   "outputs": [
    {
     "name": "stdout",
     "output_type": "stream",
     "text": [
      "classe_a process ------------------------------->\n",
      "classe_b process ------------------------------->\n",
      "classe_c process ------------------------------->\n"
     ]
    }
   ],
   "source": [
    "# Private adresses\n",
    "# Class A: 10.0.0.0 to 10.255.255.255\n",
    "# Class B: 172.16.0.0 to 172.31.255.255\n",
    "# Class C: 192.168.0.0 to 192.168.255.255\n",
    "from ipaddress import ip_address\n",
    "\n",
    "\n",
    "def findIPs(start, end):\n",
    "    start = ip_address(start)\n",
    "    end = ip_address(end)\n",
    "    result = []\n",
    "    while start <= end:\n",
    "        result.append(str(start))\n",
    "        start += 1\n",
    "    return result\n",
    "print('classe_a process ------------------------------->')\n",
    "plage_classe_a=findIPs('10.0.0.0', '10.255.255.255')\n",
    "print('classe_b process ------------------------------->')\n",
    "plage_classe_b=findIPs('172.16.0.0', '172.31.255.255')\n",
    "print('classe_c process ------------------------------->')\n",
    "plage_classe_c=findIPs('192.168.0.0', '192.168.255.255')"
   ]
  },
  {
   "cell_type": "raw",
   "metadata": {},
   "source": [
    "#### IPV4_DST_ADDR"
   ]
  },
  {
   "cell_type": "code",
   "execution_count": 31,
   "metadata": {},
   "outputs": [
    {
     "name": "stdout",
     "output_type": "stream",
     "text": [
      "classe_c process ------------------------------->\n",
      "classe_b process ------------------------------->\n",
      "classe_a process ------------------------------->\n",
      "localhost process ------------------------------->\n",
      "public/other process ------------------------------->\n"
     ]
    },
    {
     "data": {
      "text/plain": [
       "IPV4_DST_ADDR_CLASSE\n",
       "classe_c        16006162\n",
       "public/other      929617\n",
       "localhost           4700\n",
       "classe_b              13\n",
       "classe_a               4\n",
       "Name: count, dtype: int64"
      ]
     },
     "execution_count": 31,
     "metadata": {},
     "output_type": "execute_result"
    }
   ],
   "source": [
    "import numpy as np\n",
    "X_cat['IPV4_DST_ADDR_CLASSE'] = 'None'\n",
    "print('classe_c process ------------------------------->')\n",
    "X_cat['IPV4_DST_ADDR_CLASSE'][X_cat['IPV4_DST_ADDR'].isin(plage_classe_c)] = 'classe_c'\n",
    "print('classe_b process ------------------------------->')\n",
    "X_cat['IPV4_DST_ADDR_CLASSE'][X_cat['IPV4_DST_ADDR'].isin(plage_classe_b)] = 'classe_b'\n",
    "print('classe_a process ------------------------------->')\n",
    "X_cat['IPV4_DST_ADDR_CLASSE'][X_cat['IPV4_DST_ADDR'].isin(plage_classe_a)] = 'classe_a'\n",
    "print('localhost process ------------------------------->')\n",
    "X_cat['IPV4_DST_ADDR_CLASSE'][X_cat['IPV4_DST_ADDR'] == '127.0.0.1'] = 'localhost'\n",
    "print('public/other process ------------------------------->')\n",
    "X_cat['IPV4_DST_ADDR_CLASSE'][X_cat['IPV4_DST_ADDR_CLASSE'] == 'None'] = 'public/other'\n",
    "X_cat['IPV4_DST_ADDR_CLASSE'].value_counts()"
   ]
  },
  {
   "cell_type": "raw",
   "metadata": {},
   "source": [
    "### IPV4_SRC_ADDR_CLASSE"
   ]
  },
  {
   "cell_type": "code",
   "execution_count": 32,
   "metadata": {},
   "outputs": [
    {
     "name": "stdout",
     "output_type": "stream",
     "text": [
      "classe_c process ------------------------------->\n",
      "classe_b process ------------------------------->\n",
      "classe_a process ------------------------------->\n",
      "localhost process ------------------------------->\n",
      "public/other process ------------------------------->\n"
     ]
    },
    {
     "data": {
      "text/plain": [
       "IPV4_SRC_ADDR_CLASSE\n",
       "classe_c        16787988\n",
       "classe_b          103646\n",
       "public/other       44033\n",
       "localhost           4706\n",
       "classe_a             123\n",
       "Name: count, dtype: int64"
      ]
     },
     "execution_count": 32,
     "metadata": {},
     "output_type": "execute_result"
    }
   ],
   "source": [
    "import numpy as np\n",
    "X_cat['IPV4_SRC_ADDR_CLASSE'] = 'None'\n",
    "print('classe_c process ------------------------------->')\n",
    "X_cat['IPV4_SRC_ADDR_CLASSE'][X_cat['IPV4_SRC_ADDR'].isin(plage_classe_c)] = 'classe_c'\n",
    "print('classe_b process ------------------------------->')\n",
    "X_cat['IPV4_SRC_ADDR_CLASSE'][X_cat['IPV4_SRC_ADDR'].isin(plage_classe_b)] = 'classe_b'\n",
    "print('classe_a process ------------------------------->')\n",
    "X_cat['IPV4_SRC_ADDR_CLASSE'][X_cat['IPV4_SRC_ADDR'].isin(plage_classe_a)] = 'classe_a'\n",
    "print('localhost process ------------------------------->')\n",
    "X_cat['IPV4_SRC_ADDR_CLASSE'][X_cat['IPV4_SRC_ADDR'] == '127.0.0.1'] = 'localhost'\n",
    "print('public/other process ------------------------------->')\n",
    "X_cat['IPV4_SRC_ADDR_CLASSE'][X_cat['IPV4_SRC_ADDR_CLASSE'] == 'None'] = 'public/other'\n",
    "X_cat['IPV4_SRC_ADDR_CLASSE'].value_counts()"
   ]
  },
  {
   "cell_type": "markdown",
   "metadata": {},
   "source": [
    "Remove IPV4_SRC_ADDR & IPV4_DST_ADDR and Keep IPV4_SRC_ADDR IPV4_DST_ADDR"
   ]
  },
  {
   "cell_type": "code",
   "execution_count": 33,
   "metadata": {},
   "outputs": [],
   "source": [
    "X_cat.drop(columns=['IPV4_SRC_ADDR','IPV4_DST_ADDR'], inplace=True)"
   ]
  },
  {
   "cell_type": "code",
   "execution_count": null,
   "metadata": {},
   "outputs": [],
   "source": []
  },
  {
   "cell_type": "markdown",
   "metadata": {},
   "source": [
    "## Optimze the 3 features ICMP_TYPE, ICMP_IPV4_TYPE, DNS_TTL_ANSWER"
   ]
  },
  {
   "cell_type": "code",
   "execution_count": 34,
   "metadata": {},
   "outputs": [
    {
     "name": "stdout",
     "output_type": "stream",
     "text": [
      "ICMPTYPE ICMP_TYPE\n",
      "0    16658896\n",
      "1      281600\n",
      "Name: count, dtype: int64, \n",
      " ICMP_IPV4_TYPE  ICMP_IPV4_TYPE\n",
      "0    16658897\n",
      "1      281599\n",
      "Name: count, dtype: int64, \n",
      "  DNS_TTL_ANSWER  DNS_TTL_ANSWER\n",
      "0    15833836\n",
      "1     1106660\n",
      "Name: count, dtype: int64\n"
     ]
    }
   ],
   "source": [
    "import math\n",
    "infini = math.inf\n",
    "\n",
    "X_cat['ICMP_TYPE'] = X_cat['ICMP_TYPE'].astype('O')\n",
    "X_cat['ICMP_IPV4_TYPE'] = X_cat['ICMP_IPV4_TYPE'].astype('O')\n",
    "X_cat['DNS_TTL_ANSWER'] = X_cat['DNS_TTL_ANSWER'].astype('O')\n",
    "\n",
    "X_cat['ICMP_TYPE'][~(X_cat['ICMP_TYPE']==0)]=1\n",
    "X_cat['ICMP_IPV4_TYPE'][~(X_cat['ICMP_IPV4_TYPE']==0)]=1\n",
    "X_cat['DNS_TTL_ANSWER'][~(X_cat['DNS_TTL_ANSWER']==0)]=1\n",
    "\n",
    "print(f\"ICMPTYPE {X_cat['ICMP_TYPE'].value_counts()}, \\n ICMP_IPV4_TYPE  {X_cat['ICMP_IPV4_TYPE'].value_counts()}, \\n  DNS_TTL_ANSWER  {X_cat['DNS_TTL_ANSWER'].value_counts()}\")\n",
    "\n"
   ]
  },
  {
   "cell_type": "code",
   "execution_count": 35,
   "metadata": {},
   "outputs": [
    {
     "data": {
      "text/html": [
       "<div>\n",
       "<style scoped>\n",
       "    .dataframe tbody tr th:only-of-type {\n",
       "        vertical-align: middle;\n",
       "    }\n",
       "\n",
       "    .dataframe tbody tr th {\n",
       "        vertical-align: top;\n",
       "    }\n",
       "\n",
       "    .dataframe thead th {\n",
       "        text-align: right;\n",
       "    }\n",
       "</style>\n",
       "<table border=\"1\" class=\"dataframe\">\n",
       "  <thead>\n",
       "    <tr style=\"text-align: right;\">\n",
       "      <th></th>\n",
       "      <th>PROTOCOL</th>\n",
       "      <th>L7_PROTO</th>\n",
       "      <th>DNS_QUERY_TYPE</th>\n",
       "      <th>ICMP_TYPE</th>\n",
       "      <th>ICMP_IPV4_TYPE</th>\n",
       "      <th>DNS_TTL_ANSWER</th>\n",
       "      <th>L4_SRC_PORT_C</th>\n",
       "      <th>L4_DST_PORT_C</th>\n",
       "      <th>IPV4_DST_ADDR_CLASSE</th>\n",
       "      <th>IPV4_SRC_ADDR_CLASSE</th>\n",
       "    </tr>\n",
       "  </thead>\n",
       "  <tbody>\n",
       "    <tr>\n",
       "      <th>0</th>\n",
       "      <td>6</td>\n",
       "      <td>0.0</td>\n",
       "      <td>0</td>\n",
       "      <td>0</td>\n",
       "      <td>0</td>\n",
       "      <td>0</td>\n",
       "      <td>ephemeral_ports</td>\n",
       "      <td>registered_ports</td>\n",
       "      <td>classe_c</td>\n",
       "      <td>classe_c</td>\n",
       "    </tr>\n",
       "    <tr>\n",
       "      <th>1</th>\n",
       "      <td>6</td>\n",
       "      <td>0.0</td>\n",
       "      <td>0</td>\n",
       "      <td>0</td>\n",
       "      <td>0</td>\n",
       "      <td>0</td>\n",
       "      <td>ephemeral_ports</td>\n",
       "      <td>registered_ports</td>\n",
       "      <td>classe_c</td>\n",
       "      <td>classe_c</td>\n",
       "    </tr>\n",
       "    <tr>\n",
       "      <th>2</th>\n",
       "      <td>1</td>\n",
       "      <td>0.0</td>\n",
       "      <td>0</td>\n",
       "      <td>1</td>\n",
       "      <td>1</td>\n",
       "      <td>0</td>\n",
       "      <td>well_known_port</td>\n",
       "      <td>well_known_port</td>\n",
       "      <td>classe_c</td>\n",
       "      <td>classe_c</td>\n",
       "    </tr>\n",
       "    <tr>\n",
       "      <th>3</th>\n",
       "      <td>17</td>\n",
       "      <td>0.0</td>\n",
       "      <td>0</td>\n",
       "      <td>0</td>\n",
       "      <td>0</td>\n",
       "      <td>0</td>\n",
       "      <td>ephemeral_ports</td>\n",
       "      <td>registered_ports</td>\n",
       "      <td>public/other</td>\n",
       "      <td>classe_c</td>\n",
       "    </tr>\n",
       "  </tbody>\n",
       "</table>\n",
       "</div>"
      ],
      "text/plain": [
       "   PROTOCOL L7_PROTO DNS_QUERY_TYPE ICMP_TYPE ICMP_IPV4_TYPE DNS_TTL_ANSWER  \\\n",
       "0         6      0.0              0         0              0              0   \n",
       "1         6      0.0              0         0              0              0   \n",
       "2         1      0.0              0         1              1              0   \n",
       "3        17      0.0              0         0              0              0   \n",
       "\n",
       "     L4_SRC_PORT_C     L4_DST_PORT_C IPV4_DST_ADDR_CLASSE IPV4_SRC_ADDR_CLASSE  \n",
       "0  ephemeral_ports  registered_ports             classe_c             classe_c  \n",
       "1  ephemeral_ports  registered_ports             classe_c             classe_c  \n",
       "2  well_known_port   well_known_port             classe_c             classe_c  \n",
       "3  ephemeral_ports  registered_ports         public/other             classe_c  "
      ]
     },
     "execution_count": 35,
     "metadata": {},
     "output_type": "execute_result"
    }
   ],
   "source": [
    "X_cat.head(4)"
   ]
  },
  {
   "cell_type": "markdown",
   "metadata": {},
   "source": [
    "# Feature Selection Filter-based"
   ]
  },
  {
   "cell_type": "code",
   "execution_count": 36,
   "metadata": {},
   "outputs": [],
   "source": [
    "from sklearn.feature_selection import chi2\n",
    "\n",
    "# Convert string values in categorical features to numerical\n",
    "X_cat = X_cat.replace('Other',999)\n",
    "X_cat = X_cat.replace('Others',999)\n",
    "X_cat = X_cat.replace('well_known_port',0)\n",
    "X_cat = X_cat.replace('registered_ports',1)\n",
    "X_cat = X_cat.replace('ephemeral_ports',2)\n",
    "\n",
    "\n",
    "\n",
    "X_cat = X_cat.replace('localhost',0)\n",
    "X_cat = X_cat.replace('classe_a',1)\n",
    "X_cat = X_cat.replace('classe_b',2)\n",
    "X_cat = X_cat.replace('classe_c',3)\n",
    "X_cat = X_cat.replace('public/other',4)\n",
    "\n",
    "\n",
    "X_cat = X_cat.astype(int)\n",
    "\n",
    "\n",
    "\n",
    "#X.dropna(inplace=True)\n",
    "\n",
    "#X = X.astype(int)\n",
    "\n"
   ]
  },
  {
   "cell_type": "code",
   "execution_count": null,
   "metadata": {},
   "outputs": [],
   "source": [
    "chi2_corr = chi2(X_cat,y_b)"
   ]
  },
  {
   "cell_type": "code",
   "execution_count": 38,
   "metadata": {},
   "outputs": [],
   "source": [
    "columns_ranked_chi2 = list(X_cat.columns[np.argsort(-chi2_corr[0])])"
   ]
  },
  {
   "cell_type": "code",
   "execution_count": 37,
   "metadata": {},
   "outputs": [],
   "source": [
    "#columns_ranked_chi2 = list(X_cat.columns[np.argsort(-chi2_corr[0])])\n",
    "columns_ranked_chi2 = ['DNS_QUERY_TYPE',\n",
    " 'L7_PROTO',\n",
    " 'L4_DST_PORT_C',\n",
    " 'PROTOCOL',\n",
    " 'ICMP_IPV4_TYPE',\n",
    " 'ICMP_TYPE',\n",
    " 'L4_SRC_PORT_C',\n",
    " 'DNS_TTL_ANSWER',\n",
    " 'IPV4_DST_ADDR_CLASSE',\n",
    " 'IPV4_SRC_ADDR_CLASSE']"
   ]
  },
  {
   "cell_type": "markdown",
   "metadata": {},
   "source": [
    "## Ranking of features using CHI2"
   ]
  },
  {
   "cell_type": "markdown",
   "metadata": {},
   "source": [
    "# We will select 3 pourcentage from the rest of the features\n",
    "categorical\n",
    "- 8.0\n",
    "- 5.0\n",
    "- 2.0"
   ]
  },
  {
   "cell_type": "markdown",
   "metadata": {},
   "source": [
    "### Generate the 3 databases for chi 2"
   ]
  },
  {
   "cell_type": "code",
   "execution_count": 38,
   "metadata": {},
   "outputs": [],
   "source": [
    "X_chi2_20 = X_cat[columns_ranked_chi2[:2]]\n",
    "X_chi2_50 =  X_cat[columns_ranked_chi2[:5]]\n",
    "X_chi2_80 =  X_cat[columns_ranked_chi2[:8]]\n",
    "\n",
    "dummy_feature = ['L4_SRC_PORT_C','L4_DST_PORT_C','IPV4_SRC_ADDR_CLASSE',\n",
    "                 'IPV4_DST_ADDR_CLASSE','PROTOCOL','L7_PROTO']\n",
    "list_dummy_20 = list(set( list(X_chi2_20.columns)).intersection(dummy_feature))\n",
    "list_dummy_50 = list(set( list(X_chi2_50.columns)).intersection(dummy_feature))\n",
    "list_dummy_80 = list(set( list(X_chi2_80.columns)).intersection(dummy_feature))\n",
    "\n",
    "\n",
    "X_chi2_20 = pd.get_dummies(X_chi2_20, columns=list_dummy_20)\n",
    "X_chi2_50 = pd.get_dummies(X_chi2_50, columns=list_dummy_50)\n",
    "X_chi2_80 = pd.get_dummies(X_chi2_80, columns=list_dummy_80)"
   ]
  },
  {
   "cell_type": "markdown",
   "metadata": {},
   "source": [
    "# MUTUAL INFORMATION"
   ]
  },
  {
   "cell_type": "code",
   "execution_count": 40,
   "metadata": {
    "pycharm": {
     "is_executing": true
    }
   },
   "outputs": [],
   "source": [
    "from sklearn.feature_selection import mutual_info_classif\n",
    "\n",
    "mi_class = mutual_info_classif(X_cat, y_b)\n"
   ]
  },
  {
   "cell_type": "code",
   "execution_count": 41,
   "metadata": {
    "pycharm": {
     "is_executing": true
    }
   },
   "outputs": [
    {
     "data": {
      "text/plain": [
       "['L4_DST_PORT_C',\n",
       " 'L7_PROTO',\n",
       " 'L4_SRC_PORT_C',\n",
       " 'DNS_QUERY_TYPE',\n",
       " 'DNS_TTL_ANSWER',\n",
       " 'ICMP_IPV4_TYPE',\n",
       " 'ICMP_TYPE',\n",
       " 'PROTOCOL',\n",
       " 'IPV4_DST_ADDR_CLASSE',\n",
       " 'IPV4_SRC_ADDR_CLASSE']"
      ]
     },
     "execution_count": 41,
     "metadata": {},
     "output_type": "execute_result"
    }
   ],
   "source": [
    "list(X_cat.columns[np.argsort(-mi_class)])"
   ]
  },
  {
   "cell_type": "code",
   "execution_count": 42,
   "metadata": {},
   "outputs": [],
   "source": [
    "columns_ranked_mi = list(X_cat.columns[np.argsort(-mi_class)])"
   ]
  },
  {
   "cell_type": "code",
   "execution_count": 39,
   "metadata": {
    "pycharm": {
     "is_executing": true
    }
   },
   "outputs": [],
   "source": [
    "#columns_ranked_mi = list(X_cat.columns[np.argsort(-mi_class)])\n",
    "columns_ranked_mi = ['L4_DST_PORT_C',\n",
    " 'L7_PROTO',\n",
    " 'L4_SRC_PORT_C',\n",
    " 'DNS_TTL_ANSWER',\n",
    " 'ICMP_TYPE',\n",
    " 'ICMP_IPV4_TYPE',\n",
    " 'PROTOCOL',\n",
    " 'DNS_QUERY_TYPE',\n",
    " 'IPV4_DST_ADDR_CLASSE',\n",
    " 'IPV4_SRC_ADDR_CLASSE']"
   ]
  },
  {
   "cell_type": "code",
   "execution_count": 40,
   "metadata": {},
   "outputs": [
    {
     "data": {
      "text/plain": [
       "['L4_DST_PORT_C',\n",
       " 'L7_PROTO',\n",
       " 'L4_SRC_PORT_C',\n",
       " 'DNS_TTL_ANSWER',\n",
       " 'ICMP_TYPE',\n",
       " 'ICMP_IPV4_TYPE',\n",
       " 'PROTOCOL',\n",
       " 'DNS_QUERY_TYPE',\n",
       " 'IPV4_DST_ADDR_CLASSE',\n",
       " 'IPV4_SRC_ADDR_CLASSE']"
      ]
     },
     "execution_count": 40,
     "metadata": {},
     "output_type": "execute_result"
    }
   ],
   "source": [
    "columns_ranked_mi"
   ]
  },
  {
   "cell_type": "code",
   "execution_count": 41,
   "metadata": {
    "pycharm": {
     "is_executing": true
    }
   },
   "outputs": [],
   "source": [
    "X_MI_20 = X_cat[columns_ranked_mi[:2]]\n",
    "X_MI_50 =  X_cat[columns_ranked_mi[:5]]\n",
    "X_MI_80 =  X_cat[columns_ranked_mi[:8]]\n",
    "\n",
    "list_dummy_20 = list(set( list(X_MI_20.columns)).intersection(dummy_feature))\n",
    "list_dummy_50 = list(set( list(X_MI_50.columns)).intersection(dummy_feature))\n",
    "list_dummy_80 = list(set( list(X_MI_80.columns)).intersection(dummy_feature))\n",
    "\n",
    "\n",
    "X_MI_20 = pd.get_dummies(X_MI_20, columns=list_dummy_20)\n",
    "X_MI_50 = pd.get_dummies(X_MI_50, columns=list_dummy_50)\n",
    "X_MI_80 = pd.get_dummies(X_MI_80, columns=list_dummy_80)"
   ]
  },
  {
   "cell_type": "code",
   "execution_count": null,
   "metadata": {
    "pycharm": {
     "is_executing": true
    }
   },
   "outputs": [],
   "source": []
  },
  {
   "cell_type": "markdown",
   "metadata": {},
   "source": [
    "## mRMR"
   ]
  },
  {
   "cell_type": "code",
   "execution_count": 42,
   "metadata": {
    "pycharm": {
     "is_executing": true
    }
   },
   "outputs": [
    {
     "name": "stderr",
     "output_type": "stream",
     "text": [
      "100%|█████████████████████████████████████████████| 2/2 [00:02<00:00,  1.17s/it]\n",
      "100%|█████████████████████████████████████████████| 5/5 [00:11<00:00,  2.38s/it]\n",
      "100%|█████████████████████████████████████████████| 8/8 [00:18<00:00,  2.30s/it]\n"
     ]
    }
   ],
   "source": [
    "from mrmr import mrmr_classif\n",
    "selected_features_20 = mrmr_classif(X=X_cat, y=y_b, K=2)\n",
    "selected_features_50 = mrmr_classif(X=X_cat, y=y_b, K=5)\n",
    "selected_features_80 = mrmr_classif(X=X_cat, y=y_b, K=8)"
   ]
  },
  {
   "cell_type": "code",
   "execution_count": 43,
   "metadata": {
    "pycharm": {
     "is_executing": true
    }
   },
   "outputs": [],
   "source": [
    "X_mrmr_80 = X_cat[selected_features_80]\n",
    "X_mrmr_50 = X_cat[selected_features_50]\n",
    "X_mrmr_20 = X_cat[selected_features_20]\n",
    "\n",
    "list_dummy_20 = list(set( list(X_mrmr_20.columns)).intersection(dummy_feature))\n",
    "list_dummy_50 = list(set( list(X_mrmr_50.columns)).intersection(dummy_feature))\n",
    "list_dummy_80 = list(set( list(X_mrmr_80.columns)).intersection(dummy_feature))\n",
    "\n",
    "X_mrmr_20 = pd.get_dummies(X_mrmr_20, columns=list_dummy_20)\n",
    "X_mrmr_50 = pd.get_dummies(X_mrmr_50, columns=list_dummy_50)\n",
    "X_mrmr_80 = pd.get_dummies(X_mrmr_80, columns=list_dummy_80)"
   ]
  },
  {
   "cell_type": "code",
   "execution_count": 44,
   "metadata": {
    "pycharm": {
     "is_executing": true
    }
   },
   "outputs": [
    {
     "data": {
      "text/plain": [
       "['L4_DST_PORT_C',\n",
       " 'DNS_QUERY_TYPE',\n",
       " 'IPV4_SRC_ADDR_CLASSE',\n",
       " 'L7_PROTO',\n",
       " 'IPV4_DST_ADDR_CLASSE',\n",
       " 'PROTOCOL',\n",
       " 'ICMP_IPV4_TYPE',\n",
       " 'L4_SRC_PORT_C']"
      ]
     },
     "execution_count": 44,
     "metadata": {},
     "output_type": "execute_result"
    }
   ],
   "source": [
    "selected_features_80"
   ]
  },
  {
   "cell_type": "code",
   "execution_count": 45,
   "metadata": {},
   "outputs": [
    {
     "ename": "NameError",
     "evalue": "name 'mi_class' is not defined",
     "output_type": "error",
     "traceback": [
      "\u001b[0;31m---------------------------------------------------------------------------\u001b[0m",
      "\u001b[0;31mNameError\u001b[0m                                 Traceback (most recent call last)",
      "Cell \u001b[0;32mIn[45], line 3\u001b[0m\n\u001b[1;32m      1\u001b[0m \u001b[38;5;28;01mimport\u001b[39;00m\u001b[38;5;250m \u001b[39m\u001b[38;5;21;01mmatplotlib\u001b[39;00m\u001b[38;5;21;01m.\u001b[39;00m\u001b[38;5;21;01mpyplot\u001b[39;00m\u001b[38;5;250m \u001b[39m\u001b[38;5;28;01mas\u001b[39;00m\u001b[38;5;250m \u001b[39m\u001b[38;5;21;01mplt\u001b[39;00m\n\u001b[0;32m----> 3\u001b[0m mi_scores \u001b[38;5;241m=\u001b[39m \u001b[38;5;241m-\u001b[39mnp\u001b[38;5;241m.\u001b[39msort(\u001b[38;5;241m-\u001b[39m\u001b[43mmi_class\u001b[49m)\n\u001b[1;32m      4\u001b[0m feature_names \u001b[38;5;241m=\u001b[39m columns_ranked_mi\n\u001b[1;32m      6\u001b[0m plt\u001b[38;5;241m.\u001b[39mfigure(figsize\u001b[38;5;241m=\u001b[39m(\u001b[38;5;241m12\u001b[39m, \u001b[38;5;241m6\u001b[39m))\n",
      "\u001b[0;31mNameError\u001b[0m: name 'mi_class' is not defined"
     ]
    }
   ],
   "source": [
    "import matplotlib.pyplot as plt\n",
    "\n",
    "mi_scores = -np.sort(-mi_class)\n",
    "feature_names = columns_ranked_mi\n",
    "\n",
    "plt.figure(figsize=(12, 6))\n",
    "bars = plt.bar(range(len(feature_names)), mi_scores, align='center')\n",
    "plt.xticks(range(len(feature_names)), feature_names, rotation=45, ha=\"right\")\n",
    "plt.xlabel(\"Features\")\n",
    "plt.ylabel(\"Mutual Information Score\")\n",
    "plt.title(\"Mutual Information Scores for Feature Selection\")\n",
    "\n",
    "# Add MI score values at the top of each bar\n",
    "for bar, score in zip(bars, mi_scores):\n",
    "    plt.text(bar.get_x() + bar.get_width() / 2, bar.get_height(), round(score, 3),\n",
    "             ha='center', va='bottom')\n",
    "\n",
    "plt.tight_layout()\n",
    "plt.show()"
   ]
  },
  {
   "cell_type": "code",
   "execution_count": 46,
   "metadata": {},
   "outputs": [
    {
     "ename": "NameError",
     "evalue": "name 'chi2_corr' is not defined",
     "output_type": "error",
     "traceback": [
      "\u001b[0;31m---------------------------------------------------------------------------\u001b[0m",
      "\u001b[0;31mNameError\u001b[0m                                 Traceback (most recent call last)",
      "Cell \u001b[0;32mIn[46], line 3\u001b[0m\n\u001b[1;32m      1\u001b[0m \u001b[38;5;28;01mimport\u001b[39;00m\u001b[38;5;250m \u001b[39m\u001b[38;5;21;01mmatplotlib\u001b[39;00m\u001b[38;5;21;01m.\u001b[39;00m\u001b[38;5;21;01mpyplot\u001b[39;00m\u001b[38;5;250m \u001b[39m\u001b[38;5;28;01mas\u001b[39;00m\u001b[38;5;250m \u001b[39m\u001b[38;5;21;01mplt\u001b[39;00m\n\u001b[0;32m----> 3\u001b[0m chi2_scores \u001b[38;5;241m=\u001b[39m \u001b[38;5;241m-\u001b[39mnp\u001b[38;5;241m.\u001b[39msort(\u001b[38;5;241m-\u001b[39m\u001b[43mchi2_corr\u001b[49m[\u001b[38;5;241m0\u001b[39m])\n\u001b[1;32m      4\u001b[0m feature_names_chi2 \u001b[38;5;241m=\u001b[39m columns_ranked_chi2\n\u001b[1;32m      6\u001b[0m plt\u001b[38;5;241m.\u001b[39mfigure(figsize\u001b[38;5;241m=\u001b[39m(\u001b[38;5;241m14\u001b[39m, \u001b[38;5;241m8\u001b[39m))\n",
      "\u001b[0;31mNameError\u001b[0m: name 'chi2_corr' is not defined"
     ]
    }
   ],
   "source": [
    "import matplotlib.pyplot as plt\n",
    "\n",
    "chi2_scores = -np.sort(-chi2_corr[0])\n",
    "feature_names_chi2 = columns_ranked_chi2\n",
    "\n",
    "plt.figure(figsize=(14, 8))\n",
    "bars = plt.bar(range(len(feature_names_chi2)), chi2_scores, align='center')\n",
    "plt.xticks(range(len(feature_names_chi2)), feature_names_chi2, rotation=45, ha=\"right\")\n",
    "plt.xlabel(\"Features\")\n",
    "plt.ylabel(\"CHI2 Score\")\n",
    "plt.title(\"Q squard Scores for Feature Selection\")\n",
    "\n",
    "# Add MI score values at the top of each bar\n",
    "for bar, score in zip(bars, mi_scores):\n",
    "    plt.text(bar.get_x() + bar.get_width() / 2, bar.get_height(), round(score, 3),\n",
    "             ha='center', va='bottom', rotation=45)\n",
    "\n",
    "plt.tight_layout()\n",
    "plt.show()"
   ]
  },
  {
   "cell_type": "code",
   "execution_count": 46,
   "metadata": {},
   "outputs": [],
   "source": [
    "import pickle\n",
    "\n",
    "class Company(object):\n",
    "    def __init__(self, name, value):\n",
    "        self.name = name\n",
    "        self.value = value\n",
    "\n",
    "with open('attribute/ton_num.pkl', 'wb') as outp:\n",
    "    company1 = Company('mi_class', mi_class)\n",
    "    pickle.dump(company1, outp, pickle.HIGHEST_PROTOCOL)\n",
    "\n",
    "    company2 = Company('selected_features_80', selected_features_80)\n",
    "    pickle.dump(company2, outp, pickle.HIGHEST_PROTOCOL)\n",
    "    \n",
    "    company3 = Company('chi2_corr', chi2_corr)\n",
    "    pickle.dump(company3, outp, pickle.HIGHEST_PROTOCOL)\n",
    "    \n",
    "    company4 = Company('sorted_kendall_tau_scores', sorted_kendall_tau_scores)\n",
    "    pickle.dump(company4, outp, pickle.HIGHEST_PROTOCOL)\n",
    "    \n",
    "    company5 = Company('sb_anova', sb)\n",
    "    pickle.dump(company5, outp, pickle.HIGHEST_PROTOCOL)\n"
   ]
  },
  {
   "cell_type": "markdown",
   "metadata": {},
   "source": [
    "### Decision Tree"
   ]
  },
  {
   "cell_type": "markdown",
   "metadata": {},
   "source": [
    "### MI"
   ]
  },
  {
   "cell_type": "code",
   "execution_count": 45,
   "metadata": {
    "pycharm": {
     "is_executing": true
    }
   },
   "outputs": [],
   "source": [
    "import json\n",
    "class NumpyEncoder(json.JSONEncoder):\n",
    "    def default(self, obj):\n",
    "        if isinstance(obj, np.ndarray):\n",
    "            return obj.tolist()\n",
    "        return json.JSONEncoder.default(self, obj)\n"
   ]
  },
  {
   "cell_type": "code",
   "execution_count": null,
   "metadata": {
    "pycharm": {
     "is_executing": true
    }
   },
   "outputs": [],
   "source": []
  },
  {
   "cell_type": "code",
   "execution_count": 60,
   "metadata": {
    "pycharm": {
     "is_executing": true
    }
   },
   "outputs": [],
   "source": [
    "from sklearn import tree\n",
    "from sklearn.model_selection import KFold\n",
    "import json\n",
    "from sklearn.model_selection import GridSearchCV\n",
    "from sklearn.metrics import make_scorer,cohen_kappa_score,matthews_corrcoef\n",
    "\n",
    "\n",
    "def my_grid_result_df(clf,hyperparams,data_name,algo_name,X,y):\n",
    "    \n",
    "    scoring = {\"Accuracy\": \"accuracy\", \"F1-Score\":'f1' ,\"Recall\": 'recall',\n",
    "               \"Precision\":\"precision\",\"MCC\":make_scorer(matthews_corrcoef), \"Kappa\":make_scorer(cohen_kappa_score)}\n",
    "    cv_inner = KFold(n_splits=5, shuffle=True, random_state=1)\n",
    "    search = GridSearchCV(clf, hyperparams, scoring=scoring, n_jobs=1, cv=cv_inner, refit=\"MCC\")\n",
    "    grid_result = search.fit(X, y)\n",
    "\n",
    "    json_dump = json.dumps(grid_result.cv_results_,cls=NumpyEncoder)\n",
    "    # Serializing json\n",
    "\n",
    "    # Writing to sample.json\n",
    "    with open(f\"./result_ton_num_bin/{algo_name}__{data_name}.json\", \"w\") as outfile:\n",
    "        outfile.write(json_dump)\n"
   ]
  },
  {
   "cell_type": "code",
   "execution_count": 50,
   "metadata": {},
   "outputs": [
    {
     "data": {
      "text/plain": [
       "(16940496, 5)"
      ]
     },
     "execution_count": 50,
     "metadata": {},
     "output_type": "execute_result"
    }
   ],
   "source": [
    "X_A_20.shape"
   ]
  },
  {
   "cell_type": "code",
   "execution_count": 51,
   "metadata": {},
   "outputs": [
    {
     "data": {
      "text/plain": [
       "(16940496, 14)"
      ]
     },
     "execution_count": 51,
     "metadata": {},
     "output_type": "execute_result"
    }
   ],
   "source": [
    "X_A_chi2_20 = pd.concat([X_A_20,X_chi2_20],axis=1)\n",
    "X_A_chi2_20.shape"
   ]
  },
  {
   "cell_type": "code",
   "execution_count": 48,
   "metadata": {},
   "outputs": [],
   "source": [
    "X_A_chi2_20 = pd.concat([X_A_20,X_chi2_20],axis=1)\n",
    "X_A_chi2_50 = pd.concat([X_A_50,X_chi2_50],axis=1)\n",
    "X_A_chi2_80 = pd.concat([X_A_80,X_chi2_80],axis=1)\n",
    "\n",
    "X_A_MI_20 = pd.concat([X_A_20,X_MI_20],axis=1)\n",
    "X_A_MI_50= pd.concat([X_A_50,X_MI_50],axis=1)\n",
    "X_A_MI_80= pd.concat([X_A_80,X_MI_80],axis=1)\n",
    "\n",
    "X_A_mRMR_20 = pd.concat([X_A_20,X_mrmr_20],axis=1)\n",
    "X_A_mRMR_50 = pd.concat([X_A_50,X_mrmr_50],axis=1)\n",
    "X_A_mRMR_80 = pd.concat([X_A_80,X_mrmr_80],axis=1)\n",
    "\n",
    "X_K_chi2_20 = pd.concat([X_K_20,X_chi2_20],axis=1)\n",
    "X_K_chi2_50 = pd.concat([X_K_50,X_chi2_50],axis=1)\n",
    "X_K_chi2_80 = pd.concat([X_K_80,X_chi2_80],axis=1)\n",
    "\n",
    "X_K_MI_20 = pd.concat([X_K_20,X_MI_20],axis=1)\n",
    "X_K_MI_50 = pd.concat([X_K_50,X_MI_50],axis=1)\n",
    "X_K_MI_80 = pd.concat([X_K_80,X_MI_80],axis=1)\n",
    "\n",
    "X_K_mRMR_20 = pd.concat([X_K_20,X_mrmr_20],axis=1)\n",
    "X_K_mRMR_50 = pd.concat([X_K_50,X_mrmr_50],axis=1)\n",
    "X_K_mRMR_80 = pd.concat([X_K_80,X_mrmr_80],axis=1)\n",
    "\n",
    "X_PCA_chi2  = pd.concat([X_PCA,X_chi2_80],axis=1)\n",
    "X_PCA_MI = pd.concat([X_PCA,X_MI_80],axis=1)\n",
    "X_PCA_mRMR = pd.concat([X_PCA,X_mrmr_80],axis=1)"
   ]
  },
  {
   "cell_type": "code",
   "execution_count": 49,
   "metadata": {},
   "outputs": [
    {
     "name": "stdout",
     "output_type": "stream",
     "text": [
      "(16940496, 14)\n",
      "(16940496, 33)\n",
      "(16940496, 46)\n",
      "(16940496, 17)\n",
      "(16940496, 31)\n",
      "(16940496, 46)\n",
      "(16940496, 10)\n",
      "(16940496, 36)\n",
      "(16940496, 54)\n",
      "(16940496, 14)\n",
      "(16940496, 33)\n",
      "(16940496, 46)\n",
      "(16940496, 17)\n",
      "(16940496, 31)\n",
      "(16940496, 46)\n",
      "(16940496, 10)\n",
      "(16940496, 36)\n",
      "(16940496, 54)\n",
      "(16940496, 39)\n",
      "(16940496, 39)\n",
      "(16940496, 47)\n"
     ]
    }
   ],
   "source": [
    "print(X_A_chi2_20.shape)\n",
    "print(X_A_chi2_50.shape)\n",
    "print(X_A_chi2_80.shape)\n",
    "print(X_A_MI_20.shape)\n",
    "print(X_A_MI_50.shape)\n",
    "print(X_A_MI_80.shape)\n",
    "print(X_A_mRMR_20.shape)\n",
    "print(X_A_mRMR_50.shape)\n",
    "print(X_A_mRMR_80.shape)\n",
    "print(X_K_chi2_20.shape)\n",
    "print(X_K_chi2_50.shape)\n",
    "print(X_K_chi2_80.shape)\n",
    "print(X_K_MI_20.shape)\n",
    "print(X_K_MI_50.shape)\n",
    "print(X_K_MI_80.shape)\n",
    "print(X_K_mRMR_20.shape)\n",
    "print(X_K_mRMR_50.shape)\n",
    "print(X_K_mRMR_80.shape)\n",
    "print(X_PCA_chi2.shape)\n",
    "print(X_PCA_MI.shape)\n",
    "print(X_PCA_mRMR.shape)"
   ]
  },
  {
   "cell_type": "code",
   "execution_count": 55,
   "metadata": {},
   "outputs": [
    {
     "data": {
      "text/plain": [
       "(16940496, 61)"
      ]
     },
     "execution_count": 55,
     "metadata": {},
     "output_type": "execute_result"
    }
   ],
   "source": [
    "\n",
    "\n",
    "dummy_feature = ['L4_SRC_PORT_C','L4_DST_PORT_C','IPV4_SRC_ADDR_CLASSE',\n",
    "                 'IPV4_DST_ADDR_CLASSE','PROTOCOL','L7_PROTO']\n",
    "X_cat_dm = pd.get_dummies(X_cat, columns=dummy_feature)\n",
    "X =  pd.concat([X_Numerical_sc,X_cat_dm],axis=1)\n",
    "X.shape"
   ]
  },
  {
   "cell_type": "code",
   "execution_count": 56,
   "metadata": {
    "pycharm": {
     "is_executing": true
    }
   },
   "outputs": [],
   "source": [
    "datasets = {\"X_A_chi2_20\":X_A_chi2_20,\n",
    "\"X_A_chi2_50\":X_A_chi2_50,\n",
    "\"X_A_chi2_80\":X_A_chi2_80,\n",
    "\"X_A_MI_20\":X_A_MI_20,\n",
    "\"X_A_MI_50\":X_A_MI_50,\n",
    "\"X_A_MI_80\":X_A_MI_80,\n",
    "\"X_A_mRMR_20\":X_A_mRMR_20,\n",
    "\"X_A_mRMR_50\":X_A_mRMR_50,\n",
    "\"X_A_mRMR_80\":X_A_mRMR_80,\n",
    "\"X_K_chi2_20\":X_K_chi2_20,\n",
    "\"X_K_chi2_50\":X_K_chi2_50,\n",
    "\"X_K_chi2_80\":X_K_chi2_80,\n",
    "\"X_K_MI_20\":X_K_MI_20,\n",
    "\"X_K_MI_50\":X_K_MI_50,\n",
    "\"X_K_MI_80\":X_K_MI_80,\n",
    "\"X_K_mRMR_20\":X_K_mRMR_20,\n",
    "\"X_K_mRMR_50\":X_K_mRMR_50,\n",
    "\"X_K_mRMR_80\":X_K_mRMR_80,\n",
    "\"X_PCA_chi2\":X_PCA_chi2,\n",
    "\"X_PCA_MI\":X_PCA_MI,\n",
    "\"X_PCA_mRMR\":X_PCA_mRMR,\n",
    "           \"X\":X}"
   ]
  },
  {
   "cell_type": "code",
   "execution_count": 61,
   "metadata": {
    "pycharm": {
     "is_executing": true
    }
   },
   "outputs": [],
   "source": [
    "import datetime\n",
    "def create_all_result(clf,algo_name,hyperparams,datasets,y):\n",
    "    for k,v in datasets.items():\n",
    "        now = datetime.datetime.now()\n",
    "        print(f'======== process======= dataset : {k} \\t time is {now}')\n",
    "        my_grid_result_df(clf,hyperparams,k,algo_name,v,y)\n",
    "        now = datetime.datetime.now()\n",
    "        print(f'======== Done  ======== dataset : {k} \\t time is {now}')\n",
    "        print('\\n')\n"
   ]
  },
  {
   "cell_type": "markdown",
   "metadata": {},
   "source": [
    "# Decision Tree"
   ]
  },
  {
   "cell_type": "code",
   "execution_count": 86,
   "metadata": {},
   "outputs": [
    {
     "name": "stdout",
     "output_type": "stream",
     "text": [
      "======== process======= dataset : X_A_chi2_20 \t time is 2023-03-11 13:01:27.885369\n",
      "======== Done  ======== dataset : X_A_chi2_20 \t time is 2023-03-11 13:03:20.267309\n",
      "\n",
      "\n",
      "======== process======= dataset : X_A_chi2_50 \t time is 2023-03-11 13:03:20.267309\n",
      "======== Done  ======== dataset : X_A_chi2_50 \t time is 2023-03-11 13:10:09.031304\n",
      "\n",
      "\n",
      "======== process======= dataset : X_A_chi2_80 \t time is 2023-03-11 13:10:09.031304\n",
      "======== Done  ======== dataset : X_A_chi2_80 \t time is 2023-03-11 13:23:15.800159\n",
      "\n",
      "\n",
      "======== process======= dataset : X_A_MI_20 \t time is 2023-03-11 13:23:15.800159\n",
      "======== Done  ======== dataset : X_A_MI_20 \t time is 2023-03-11 13:25:49.004255\n",
      "\n",
      "\n",
      "======== process======= dataset : X_A_MI_50 \t time is 2023-03-11 13:25:49.004255\n",
      "======== Done  ======== dataset : X_A_MI_50 \t time is 2023-03-11 13:34:17.582271\n",
      "\n",
      "\n",
      "======== process======= dataset : X_A_MI_80 \t time is 2023-03-11 13:34:17.582271\n",
      "======== Done  ======== dataset : X_A_MI_80 \t time is 2023-03-11 13:45:56.523527\n",
      "\n",
      "\n",
      "======== process======= dataset : X_A_mRMR_20 \t time is 2023-03-11 13:45:56.523527\n",
      "======== Done  ======== dataset : X_A_mRMR_20 \t time is 2023-03-11 13:47:29.181317\n",
      "\n",
      "\n",
      "======== process======= dataset : X_A_mRMR_50 \t time is 2023-03-11 13:47:29.181317\n",
      "======== Done  ======== dataset : X_A_mRMR_50 \t time is 2023-03-11 13:54:06.104892\n",
      "\n",
      "\n",
      "======== process======= dataset : X_A_mRMR_80 \t time is 2023-03-11 13:54:06.104892\n",
      "======== Done  ======== dataset : X_A_mRMR_80 \t time is 2023-03-11 14:05:47.306707\n",
      "\n",
      "\n",
      "======== process======= dataset : X_K_chi2_20 \t time is 2023-03-11 14:05:47.306707\n",
      "======== Done  ======== dataset : X_K_chi2_20 \t time is 2023-03-11 14:08:25.199447\n",
      "\n",
      "\n",
      "======== process======= dataset : X_K_chi2_50 \t time is 2023-03-11 14:08:25.199447\n",
      "======== Done  ======== dataset : X_K_chi2_50 \t time is 2023-03-11 14:14:16.878868\n",
      "\n",
      "\n",
      "======== process======= dataset : X_K_chi2_80 \t time is 2023-03-11 14:14:16.878868\n",
      "======== Done  ======== dataset : X_K_chi2_80 \t time is 2023-03-11 14:25:56.298788\n",
      "\n",
      "\n",
      "======== process======= dataset : X_K_MI_20 \t time is 2023-03-11 14:25:56.298788\n",
      "======== Done  ======== dataset : X_K_MI_20 \t time is 2023-03-11 14:29:07.167278\n",
      "\n",
      "\n",
      "======== process======= dataset : X_K_MI_50 \t time is 2023-03-11 14:29:07.167278\n",
      "======== Done  ======== dataset : X_K_MI_50 \t time is 2023-03-11 14:35:40.761515\n",
      "\n",
      "\n",
      "======== process======= dataset : X_K_MI_80 \t time is 2023-03-11 14:35:40.761515\n",
      "======== Done  ======== dataset : X_K_MI_80 \t time is 2023-03-11 14:47:24.478413\n",
      "\n",
      "\n",
      "======== process======= dataset : X_K_mRMR_20 \t time is 2023-03-11 14:47:24.478413\n",
      "======== Done  ======== dataset : X_K_mRMR_20 \t time is 2023-03-11 14:49:55.980193\n",
      "\n",
      "\n",
      "======== process======= dataset : X_K_mRMR_50 \t time is 2023-03-11 14:49:55.980193\n",
      "======== Done  ======== dataset : X_K_mRMR_50 \t time is 2023-03-11 14:55:57.599854\n",
      "\n",
      "\n",
      "======== process======= dataset : X_K_mRMR_80 \t time is 2023-03-11 14:55:57.599854\n",
      "======== Done  ======== dataset : X_K_mRMR_80 \t time is 2023-03-11 15:08:02.961763\n",
      "\n",
      "\n",
      "======== process======= dataset : X_PCA_chi2 \t time is 2023-03-11 15:08:02.961763\n",
      "======== Done  ======== dataset : X_PCA_chi2 \t time is 2023-03-11 15:26:40.939834\n",
      "\n",
      "\n",
      "======== process======= dataset : X_PCA_MI \t time is 2023-03-11 15:26:40.939834\n",
      "======== Done  ======== dataset : X_PCA_MI \t time is 2023-03-11 15:45:17.752542\n",
      "\n",
      "\n",
      "======== process======= dataset : X_PCA_mRMR \t time is 2023-03-11 15:45:17.752542\n",
      "======== Done  ======== dataset : X_PCA_mRMR \t time is 2023-03-11 16:10:49.173144\n",
      "\n",
      "\n",
      "======== process======= dataset : X \t time is 2023-03-11 16:10:49.173144\n",
      "======== Done  ======== dataset : X \t time is 2023-03-11 16:31:54.940696\n",
      "\n",
      "\n"
     ]
    }
   ],
   "source": [
    "clf = tree.DecisionTreeClassifier()\n",
    "hyperparams = {}\n",
    "create_all_result(clf,'DecisionTreeClassifier',hyperparams,datasets,y_b)"
   ]
  },
  {
   "cell_type": "code",
   "execution_count": 55,
   "metadata": {},
   "outputs": [
    {
     "data": {
      "text/plain": [
       "dict_keys(['explained_variance', 'r2', 'max_error', 'matthews_corrcoef', 'neg_median_absolute_error', 'neg_mean_absolute_error', 'neg_mean_absolute_percentage_error', 'neg_mean_squared_error', 'neg_mean_squared_log_error', 'neg_root_mean_squared_error', 'neg_mean_poisson_deviance', 'neg_mean_gamma_deviance', 'accuracy', 'top_k_accuracy', 'roc_auc', 'roc_auc_ovr', 'roc_auc_ovo', 'roc_auc_ovr_weighted', 'roc_auc_ovo_weighted', 'balanced_accuracy', 'average_precision', 'neg_log_loss', 'neg_brier_score', 'positive_likelihood_ratio', 'neg_negative_likelihood_ratio', 'adjusted_rand_score', 'rand_score', 'homogeneity_score', 'completeness_score', 'v_measure_score', 'mutual_info_score', 'adjusted_mutual_info_score', 'normalized_mutual_info_score', 'fowlkes_mallows_score', 'precision', 'precision_macro', 'precision_micro', 'precision_samples', 'precision_weighted', 'recall', 'recall_macro', 'recall_micro', 'recall_samples', 'recall_weighted', 'f1', 'f1_macro', 'f1_micro', 'f1_samples', 'f1_weighted', 'jaccard', 'jaccard_macro', 'jaccard_micro', 'jaccard_samples', 'jaccard_weighted'])"
      ]
     },
     "execution_count": 55,
     "metadata": {},
     "output_type": "execute_result"
    }
   ],
   "source": [
    "import sklearn\n",
    "sklearn.metrics.SCORERS.keys()"
   ]
  },
  {
   "cell_type": "markdown",
   "metadata": {},
   "source": [
    "### AdaBoostClassifier, GradientBoostingClassifier\n"
   ]
  },
  {
   "cell_type": "code",
   "execution_count": 62,
   "metadata": {},
   "outputs": [],
   "source": [
    "def print_skip():\n",
    "    print('\\n')\n",
    "    print('*************** \\t ******************* \\t ****************')\n",
    "    print('*************** \\t ******************* \\t ****************')\n",
    "    print('\\n')\n",
    "    \n"
   ]
  },
  {
   "cell_type": "code",
   "execution_count": null,
   "metadata": {},
   "outputs": [
    {
     "name": "stdout",
     "output_type": "stream",
     "text": [
      "======================= GradientBoostingClassifier =====================\n",
      "======== process======= dataset : X_A_chi2_20 \t time is 2023-04-02 14:50:59.791138\n"
     ]
    }
   ],
   "source": [
    "from sklearn.ensemble import AdaBoostClassifier,GradientBoostingClassifier\n",
    "from lightgbm import LGBMClassifier\n",
    "from catboost import  CatBoostClassifier\n",
    "from xgboost import  XGBClassifier\n",
    "\n",
    "\n",
    "clf = GradientBoostingClassifier(random_state=0)\n",
    "hyperparams = {'n_estimators':[50, 100, 150,200]}\n",
    "\n",
    "print('======================= GradientBoostingClassifier =====================')\n",
    "create_all_result(clf,'GradientBoostingClassifier',hyperparams,datasets,y_b)\n",
    "print_skip()\n",
    "\n",
    "print('======================= AdaBoostClassifier =====================')\n",
    "clf =  AdaBoostClassifier(random_state=0)\n",
    "create_all_result(clf,'AdaBoostClassifier',hyperparams,datasets,y_b)\n",
    "print_skip()\n",
    "\n",
    "\n",
    "print('======================= XGBClassifier =====================')\n",
    "clf = XGBClassifier(random_state=0)\n",
    "create_all_result(clf,'XGBClassifier',hyperparams,datasets,y_b)\n",
    "print_skip()\n",
    "\n",
    "print('======================= LGBMClassifier =====================')\n",
    "clf = LGBMClassifier(random_state=0)\n",
    "create_all_result(clf,'LGBMClassifier',hyperparams,datasets,y_b)\n",
    "print_skip()\n",
    "\n",
    "print('======================= CatBoostClassifier =====================')\n",
    "clf =  CatBoostClassifier(random_state=0)\n",
    "create_all_result(clf,'CatBoostClassifier',hyperparams,datasets,y_b)\n"
   ]
  },
  {
   "cell_type": "raw",
   "metadata": {},
   "source": [
    "X_A_chi2_20,\n",
    "X_A_chi2_50\n",
    "X_A_chi2_80\n",
    "X_A_MI_20\n",
    "X_A_MI_50\n",
    "X_A_MI_80\n",
    "X_A_mRMR_20\n",
    "X_A_mRMR_50\n",
    "X_A_mRMR_80\n",
    "X_K_chi2_20\n",
    "X_K_chi2_50\n",
    "X_K_chi2_80\n",
    "X_K_MI_20\n",
    "X_K_MI_50\n",
    "X_K_MI_80\n",
    "X_K_mRMR_20\n",
    "X_K_mRMR_50\n",
    "X_K_mRMR_80\n",
    "X_PCA_chi2\n",
    "X_PCA_MI\n",
    "X_PCA_mRMR\n",
    "X"
   ]
  },
  {
   "cell_type": "markdown",
   "metadata": {},
   "source": [
    "## Build the model and save it "
   ]
  },
  {
   "cell_type": "code",
   "execution_count": null,
   "metadata": {},
   "outputs": [],
   "source": []
  },
  {
   "cell_type": "code",
   "execution_count": 57,
   "metadata": {},
   "outputs": [
    {
     "data": {
      "text/html": [
       "<style>#sk-container-id-2 {\n",
       "  /* Definition of color scheme common for light and dark mode */\n",
       "  --sklearn-color-text: #000;\n",
       "  --sklearn-color-text-muted: #666;\n",
       "  --sklearn-color-line: gray;\n",
       "  /* Definition of color scheme for unfitted estimators */\n",
       "  --sklearn-color-unfitted-level-0: #fff5e6;\n",
       "  --sklearn-color-unfitted-level-1: #f6e4d2;\n",
       "  --sklearn-color-unfitted-level-2: #ffe0b3;\n",
       "  --sklearn-color-unfitted-level-3: chocolate;\n",
       "  /* Definition of color scheme for fitted estimators */\n",
       "  --sklearn-color-fitted-level-0: #f0f8ff;\n",
       "  --sklearn-color-fitted-level-1: #d4ebff;\n",
       "  --sklearn-color-fitted-level-2: #b3dbfd;\n",
       "  --sklearn-color-fitted-level-3: cornflowerblue;\n",
       "\n",
       "  /* Specific color for light theme */\n",
       "  --sklearn-color-text-on-default-background: var(--sg-text-color, var(--theme-code-foreground, var(--jp-content-font-color1, black)));\n",
       "  --sklearn-color-background: var(--sg-background-color, var(--theme-background, var(--jp-layout-color0, white)));\n",
       "  --sklearn-color-border-box: var(--sg-text-color, var(--theme-code-foreground, var(--jp-content-font-color1, black)));\n",
       "  --sklearn-color-icon: #696969;\n",
       "\n",
       "  @media (prefers-color-scheme: dark) {\n",
       "    /* Redefinition of color scheme for dark theme */\n",
       "    --sklearn-color-text-on-default-background: var(--sg-text-color, var(--theme-code-foreground, var(--jp-content-font-color1, white)));\n",
       "    --sklearn-color-background: var(--sg-background-color, var(--theme-background, var(--jp-layout-color0, #111)));\n",
       "    --sklearn-color-border-box: var(--sg-text-color, var(--theme-code-foreground, var(--jp-content-font-color1, white)));\n",
       "    --sklearn-color-icon: #878787;\n",
       "  }\n",
       "}\n",
       "\n",
       "#sk-container-id-2 {\n",
       "  color: var(--sklearn-color-text);\n",
       "}\n",
       "\n",
       "#sk-container-id-2 pre {\n",
       "  padding: 0;\n",
       "}\n",
       "\n",
       "#sk-container-id-2 input.sk-hidden--visually {\n",
       "  border: 0;\n",
       "  clip: rect(1px 1px 1px 1px);\n",
       "  clip: rect(1px, 1px, 1px, 1px);\n",
       "  height: 1px;\n",
       "  margin: -1px;\n",
       "  overflow: hidden;\n",
       "  padding: 0;\n",
       "  position: absolute;\n",
       "  width: 1px;\n",
       "}\n",
       "\n",
       "#sk-container-id-2 div.sk-dashed-wrapped {\n",
       "  border: 1px dashed var(--sklearn-color-line);\n",
       "  margin: 0 0.4em 0.5em 0.4em;\n",
       "  box-sizing: border-box;\n",
       "  padding-bottom: 0.4em;\n",
       "  background-color: var(--sklearn-color-background);\n",
       "}\n",
       "\n",
       "#sk-container-id-2 div.sk-container {\n",
       "  /* jupyter's `normalize.less` sets `[hidden] { display: none; }`\n",
       "     but bootstrap.min.css set `[hidden] { display: none !important; }`\n",
       "     so we also need the `!important` here to be able to override the\n",
       "     default hidden behavior on the sphinx rendered scikit-learn.org.\n",
       "     See: https://github.com/scikit-learn/scikit-learn/issues/21755 */\n",
       "  display: inline-block !important;\n",
       "  position: relative;\n",
       "}\n",
       "\n",
       "#sk-container-id-2 div.sk-text-repr-fallback {\n",
       "  display: none;\n",
       "}\n",
       "\n",
       "div.sk-parallel-item,\n",
       "div.sk-serial,\n",
       "div.sk-item {\n",
       "  /* draw centered vertical line to link estimators */\n",
       "  background-image: linear-gradient(var(--sklearn-color-text-on-default-background), var(--sklearn-color-text-on-default-background));\n",
       "  background-size: 2px 100%;\n",
       "  background-repeat: no-repeat;\n",
       "  background-position: center center;\n",
       "}\n",
       "\n",
       "/* Parallel-specific style estimator block */\n",
       "\n",
       "#sk-container-id-2 div.sk-parallel-item::after {\n",
       "  content: \"\";\n",
       "  width: 100%;\n",
       "  border-bottom: 2px solid var(--sklearn-color-text-on-default-background);\n",
       "  flex-grow: 1;\n",
       "}\n",
       "\n",
       "#sk-container-id-2 div.sk-parallel {\n",
       "  display: flex;\n",
       "  align-items: stretch;\n",
       "  justify-content: center;\n",
       "  background-color: var(--sklearn-color-background);\n",
       "  position: relative;\n",
       "}\n",
       "\n",
       "#sk-container-id-2 div.sk-parallel-item {\n",
       "  display: flex;\n",
       "  flex-direction: column;\n",
       "}\n",
       "\n",
       "#sk-container-id-2 div.sk-parallel-item:first-child::after {\n",
       "  align-self: flex-end;\n",
       "  width: 50%;\n",
       "}\n",
       "\n",
       "#sk-container-id-2 div.sk-parallel-item:last-child::after {\n",
       "  align-self: flex-start;\n",
       "  width: 50%;\n",
       "}\n",
       "\n",
       "#sk-container-id-2 div.sk-parallel-item:only-child::after {\n",
       "  width: 0;\n",
       "}\n",
       "\n",
       "/* Serial-specific style estimator block */\n",
       "\n",
       "#sk-container-id-2 div.sk-serial {\n",
       "  display: flex;\n",
       "  flex-direction: column;\n",
       "  align-items: center;\n",
       "  background-color: var(--sklearn-color-background);\n",
       "  padding-right: 1em;\n",
       "  padding-left: 1em;\n",
       "}\n",
       "\n",
       "\n",
       "/* Toggleable style: style used for estimator/Pipeline/ColumnTransformer box that is\n",
       "clickable and can be expanded/collapsed.\n",
       "- Pipeline and ColumnTransformer use this feature and define the default style\n",
       "- Estimators will overwrite some part of the style using the `sk-estimator` class\n",
       "*/\n",
       "\n",
       "/* Pipeline and ColumnTransformer style (default) */\n",
       "\n",
       "#sk-container-id-2 div.sk-toggleable {\n",
       "  /* Default theme specific background. It is overwritten whether we have a\n",
       "  specific estimator or a Pipeline/ColumnTransformer */\n",
       "  background-color: var(--sklearn-color-background);\n",
       "}\n",
       "\n",
       "/* Toggleable label */\n",
       "#sk-container-id-2 label.sk-toggleable__label {\n",
       "  cursor: pointer;\n",
       "  display: flex;\n",
       "  width: 100%;\n",
       "  margin-bottom: 0;\n",
       "  padding: 0.5em;\n",
       "  box-sizing: border-box;\n",
       "  text-align: center;\n",
       "  align-items: start;\n",
       "  justify-content: space-between;\n",
       "  gap: 0.5em;\n",
       "}\n",
       "\n",
       "#sk-container-id-2 label.sk-toggleable__label .caption {\n",
       "  font-size: 0.6rem;\n",
       "  font-weight: lighter;\n",
       "  color: var(--sklearn-color-text-muted);\n",
       "}\n",
       "\n",
       "#sk-container-id-2 label.sk-toggleable__label-arrow:before {\n",
       "  /* Arrow on the left of the label */\n",
       "  content: \"▸\";\n",
       "  float: left;\n",
       "  margin-right: 0.25em;\n",
       "  color: var(--sklearn-color-icon);\n",
       "}\n",
       "\n",
       "#sk-container-id-2 label.sk-toggleable__label-arrow:hover:before {\n",
       "  color: var(--sklearn-color-text);\n",
       "}\n",
       "\n",
       "/* Toggleable content - dropdown */\n",
       "\n",
       "#sk-container-id-2 div.sk-toggleable__content {\n",
       "  max-height: 0;\n",
       "  max-width: 0;\n",
       "  overflow: hidden;\n",
       "  text-align: left;\n",
       "  /* unfitted */\n",
       "  background-color: var(--sklearn-color-unfitted-level-0);\n",
       "}\n",
       "\n",
       "#sk-container-id-2 div.sk-toggleable__content.fitted {\n",
       "  /* fitted */\n",
       "  background-color: var(--sklearn-color-fitted-level-0);\n",
       "}\n",
       "\n",
       "#sk-container-id-2 div.sk-toggleable__content pre {\n",
       "  margin: 0.2em;\n",
       "  border-radius: 0.25em;\n",
       "  color: var(--sklearn-color-text);\n",
       "  /* unfitted */\n",
       "  background-color: var(--sklearn-color-unfitted-level-0);\n",
       "}\n",
       "\n",
       "#sk-container-id-2 div.sk-toggleable__content.fitted pre {\n",
       "  /* unfitted */\n",
       "  background-color: var(--sklearn-color-fitted-level-0);\n",
       "}\n",
       "\n",
       "#sk-container-id-2 input.sk-toggleable__control:checked~div.sk-toggleable__content {\n",
       "  /* Expand drop-down */\n",
       "  max-height: 200px;\n",
       "  max-width: 100%;\n",
       "  overflow: auto;\n",
       "}\n",
       "\n",
       "#sk-container-id-2 input.sk-toggleable__control:checked~label.sk-toggleable__label-arrow:before {\n",
       "  content: \"▾\";\n",
       "}\n",
       "\n",
       "/* Pipeline/ColumnTransformer-specific style */\n",
       "\n",
       "#sk-container-id-2 div.sk-label input.sk-toggleable__control:checked~label.sk-toggleable__label {\n",
       "  color: var(--sklearn-color-text);\n",
       "  background-color: var(--sklearn-color-unfitted-level-2);\n",
       "}\n",
       "\n",
       "#sk-container-id-2 div.sk-label.fitted input.sk-toggleable__control:checked~label.sk-toggleable__label {\n",
       "  background-color: var(--sklearn-color-fitted-level-2);\n",
       "}\n",
       "\n",
       "/* Estimator-specific style */\n",
       "\n",
       "/* Colorize estimator box */\n",
       "#sk-container-id-2 div.sk-estimator input.sk-toggleable__control:checked~label.sk-toggleable__label {\n",
       "  /* unfitted */\n",
       "  background-color: var(--sklearn-color-unfitted-level-2);\n",
       "}\n",
       "\n",
       "#sk-container-id-2 div.sk-estimator.fitted input.sk-toggleable__control:checked~label.sk-toggleable__label {\n",
       "  /* fitted */\n",
       "  background-color: var(--sklearn-color-fitted-level-2);\n",
       "}\n",
       "\n",
       "#sk-container-id-2 div.sk-label label.sk-toggleable__label,\n",
       "#sk-container-id-2 div.sk-label label {\n",
       "  /* The background is the default theme color */\n",
       "  color: var(--sklearn-color-text-on-default-background);\n",
       "}\n",
       "\n",
       "/* On hover, darken the color of the background */\n",
       "#sk-container-id-2 div.sk-label:hover label.sk-toggleable__label {\n",
       "  color: var(--sklearn-color-text);\n",
       "  background-color: var(--sklearn-color-unfitted-level-2);\n",
       "}\n",
       "\n",
       "/* Label box, darken color on hover, fitted */\n",
       "#sk-container-id-2 div.sk-label.fitted:hover label.sk-toggleable__label.fitted {\n",
       "  color: var(--sklearn-color-text);\n",
       "  background-color: var(--sklearn-color-fitted-level-2);\n",
       "}\n",
       "\n",
       "/* Estimator label */\n",
       "\n",
       "#sk-container-id-2 div.sk-label label {\n",
       "  font-family: monospace;\n",
       "  font-weight: bold;\n",
       "  display: inline-block;\n",
       "  line-height: 1.2em;\n",
       "}\n",
       "\n",
       "#sk-container-id-2 div.sk-label-container {\n",
       "  text-align: center;\n",
       "}\n",
       "\n",
       "/* Estimator-specific */\n",
       "#sk-container-id-2 div.sk-estimator {\n",
       "  font-family: monospace;\n",
       "  border: 1px dotted var(--sklearn-color-border-box);\n",
       "  border-radius: 0.25em;\n",
       "  box-sizing: border-box;\n",
       "  margin-bottom: 0.5em;\n",
       "  /* unfitted */\n",
       "  background-color: var(--sklearn-color-unfitted-level-0);\n",
       "}\n",
       "\n",
       "#sk-container-id-2 div.sk-estimator.fitted {\n",
       "  /* fitted */\n",
       "  background-color: var(--sklearn-color-fitted-level-0);\n",
       "}\n",
       "\n",
       "/* on hover */\n",
       "#sk-container-id-2 div.sk-estimator:hover {\n",
       "  /* unfitted */\n",
       "  background-color: var(--sklearn-color-unfitted-level-2);\n",
       "}\n",
       "\n",
       "#sk-container-id-2 div.sk-estimator.fitted:hover {\n",
       "  /* fitted */\n",
       "  background-color: var(--sklearn-color-fitted-level-2);\n",
       "}\n",
       "\n",
       "/* Specification for estimator info (e.g. \"i\" and \"?\") */\n",
       "\n",
       "/* Common style for \"i\" and \"?\" */\n",
       "\n",
       ".sk-estimator-doc-link,\n",
       "a:link.sk-estimator-doc-link,\n",
       "a:visited.sk-estimator-doc-link {\n",
       "  float: right;\n",
       "  font-size: smaller;\n",
       "  line-height: 1em;\n",
       "  font-family: monospace;\n",
       "  background-color: var(--sklearn-color-background);\n",
       "  border-radius: 1em;\n",
       "  height: 1em;\n",
       "  width: 1em;\n",
       "  text-decoration: none !important;\n",
       "  margin-left: 0.5em;\n",
       "  text-align: center;\n",
       "  /* unfitted */\n",
       "  border: var(--sklearn-color-unfitted-level-1) 1pt solid;\n",
       "  color: var(--sklearn-color-unfitted-level-1);\n",
       "}\n",
       "\n",
       ".sk-estimator-doc-link.fitted,\n",
       "a:link.sk-estimator-doc-link.fitted,\n",
       "a:visited.sk-estimator-doc-link.fitted {\n",
       "  /* fitted */\n",
       "  border: var(--sklearn-color-fitted-level-1) 1pt solid;\n",
       "  color: var(--sklearn-color-fitted-level-1);\n",
       "}\n",
       "\n",
       "/* On hover */\n",
       "div.sk-estimator:hover .sk-estimator-doc-link:hover,\n",
       ".sk-estimator-doc-link:hover,\n",
       "div.sk-label-container:hover .sk-estimator-doc-link:hover,\n",
       ".sk-estimator-doc-link:hover {\n",
       "  /* unfitted */\n",
       "  background-color: var(--sklearn-color-unfitted-level-3);\n",
       "  color: var(--sklearn-color-background);\n",
       "  text-decoration: none;\n",
       "}\n",
       "\n",
       "div.sk-estimator.fitted:hover .sk-estimator-doc-link.fitted:hover,\n",
       ".sk-estimator-doc-link.fitted:hover,\n",
       "div.sk-label-container:hover .sk-estimator-doc-link.fitted:hover,\n",
       ".sk-estimator-doc-link.fitted:hover {\n",
       "  /* fitted */\n",
       "  background-color: var(--sklearn-color-fitted-level-3);\n",
       "  color: var(--sklearn-color-background);\n",
       "  text-decoration: none;\n",
       "}\n",
       "\n",
       "/* Span, style for the box shown on hovering the info icon */\n",
       ".sk-estimator-doc-link span {\n",
       "  display: none;\n",
       "  z-index: 9999;\n",
       "  position: relative;\n",
       "  font-weight: normal;\n",
       "  right: .2ex;\n",
       "  padding: .5ex;\n",
       "  margin: .5ex;\n",
       "  width: min-content;\n",
       "  min-width: 20ex;\n",
       "  max-width: 50ex;\n",
       "  color: var(--sklearn-color-text);\n",
       "  box-shadow: 2pt 2pt 4pt #999;\n",
       "  /* unfitted */\n",
       "  background: var(--sklearn-color-unfitted-level-0);\n",
       "  border: .5pt solid var(--sklearn-color-unfitted-level-3);\n",
       "}\n",
       "\n",
       ".sk-estimator-doc-link.fitted span {\n",
       "  /* fitted */\n",
       "  background: var(--sklearn-color-fitted-level-0);\n",
       "  border: var(--sklearn-color-fitted-level-3);\n",
       "}\n",
       "\n",
       ".sk-estimator-doc-link:hover span {\n",
       "  display: block;\n",
       "}\n",
       "\n",
       "/* \"?\"-specific style due to the `<a>` HTML tag */\n",
       "\n",
       "#sk-container-id-2 a.estimator_doc_link {\n",
       "  float: right;\n",
       "  font-size: 1rem;\n",
       "  line-height: 1em;\n",
       "  font-family: monospace;\n",
       "  background-color: var(--sklearn-color-background);\n",
       "  border-radius: 1rem;\n",
       "  height: 1rem;\n",
       "  width: 1rem;\n",
       "  text-decoration: none;\n",
       "  /* unfitted */\n",
       "  color: var(--sklearn-color-unfitted-level-1);\n",
       "  border: var(--sklearn-color-unfitted-level-1) 1pt solid;\n",
       "}\n",
       "\n",
       "#sk-container-id-2 a.estimator_doc_link.fitted {\n",
       "  /* fitted */\n",
       "  border: var(--sklearn-color-fitted-level-1) 1pt solid;\n",
       "  color: var(--sklearn-color-fitted-level-1);\n",
       "}\n",
       "\n",
       "/* On hover */\n",
       "#sk-container-id-2 a.estimator_doc_link:hover {\n",
       "  /* unfitted */\n",
       "  background-color: var(--sklearn-color-unfitted-level-3);\n",
       "  color: var(--sklearn-color-background);\n",
       "  text-decoration: none;\n",
       "}\n",
       "\n",
       "#sk-container-id-2 a.estimator_doc_link.fitted:hover {\n",
       "  /* fitted */\n",
       "  background-color: var(--sklearn-color-fitted-level-3);\n",
       "}\n",
       "</style><div id=\"sk-container-id-2\" class=\"sk-top-container\"><div class=\"sk-text-repr-fallback\"><pre>XGBClassifier(base_score=None, booster=None, callbacks=None,\n",
       "              colsample_bylevel=None, colsample_bynode=None,\n",
       "              colsample_bytree=None, device=None, early_stopping_rounds=None,\n",
       "              enable_categorical=False, eval_metric=None, feature_types=None,\n",
       "              gamma=None, grow_policy=None, importance_type=None,\n",
       "              interaction_constraints=None, learning_rate=None, max_bin=None,\n",
       "              max_cat_threshold=None, max_cat_to_onehot=None,\n",
       "              max_delta_step=None, max_depth=None, max_leaves=None,\n",
       "              min_child_weight=None, missing=nan, monotone_constraints=None,\n",
       "              multi_strategy=None, n_estimators=200, n_jobs=None,\n",
       "              num_parallel_tree=None, random_state=None, ...)</pre><b>In a Jupyter environment, please rerun this cell to show the HTML representation or trust the notebook. <br />On GitHub, the HTML representation is unable to render, please try loading this page with nbviewer.org.</b></div><div class=\"sk-container\" hidden><div class=\"sk-item\"><div class=\"sk-estimator fitted sk-toggleable\"><input class=\"sk-toggleable__control sk-hidden--visually\" id=\"sk-estimator-id-2\" type=\"checkbox\" checked><label for=\"sk-estimator-id-2\" class=\"sk-toggleable__label fitted sk-toggleable__label-arrow\"><div><div>XGBClassifier</div></div><div><span class=\"sk-estimator-doc-link fitted\">i<span>Fitted</span></span></div></label><div class=\"sk-toggleable__content fitted\"><pre>XGBClassifier(base_score=None, booster=None, callbacks=None,\n",
       "              colsample_bylevel=None, colsample_bynode=None,\n",
       "              colsample_bytree=None, device=None, early_stopping_rounds=None,\n",
       "              enable_categorical=False, eval_metric=None, feature_types=None,\n",
       "              gamma=None, grow_policy=None, importance_type=None,\n",
       "              interaction_constraints=None, learning_rate=None, max_bin=None,\n",
       "              max_cat_threshold=None, max_cat_to_onehot=None,\n",
       "              max_delta_step=None, max_depth=None, max_leaves=None,\n",
       "              min_child_weight=None, missing=nan, monotone_constraints=None,\n",
       "              multi_strategy=None, n_estimators=200, n_jobs=None,\n",
       "              num_parallel_tree=None, random_state=None, ...)</pre></div> </div></div></div></div>"
      ],
      "text/plain": [
       "XGBClassifier(base_score=None, booster=None, callbacks=None,\n",
       "              colsample_bylevel=None, colsample_bynode=None,\n",
       "              colsample_bytree=None, device=None, early_stopping_rounds=None,\n",
       "              enable_categorical=False, eval_metric=None, feature_types=None,\n",
       "              gamma=None, grow_policy=None, importance_type=None,\n",
       "              interaction_constraints=None, learning_rate=None, max_bin=None,\n",
       "              max_cat_threshold=None, max_cat_to_onehot=None,\n",
       "              max_delta_step=None, max_depth=None, max_leaves=None,\n",
       "              min_child_weight=None, missing=nan, monotone_constraints=None,\n",
       "              multi_strategy=None, n_estimators=200, n_jobs=None,\n",
       "              num_parallel_tree=None, random_state=None, ...)"
      ]
     },
     "execution_count": 57,
     "metadata": {},
     "output_type": "execute_result"
    }
   ],
   "source": [
    "# Best Model using  descritization  20 K-MI-XB200    X_k_MI_20 ||| 50 A-mRMR-XB200  X_A_mRMR_50 ||  80 A-mRMR-XB200  X_A_mRMR_80 ||  100 XGB_200  X\n",
    "\n",
    "import xgboost as xgb\n",
    "\n",
    "# Train your model (example)\n",
    "model = xgb.XGBClassifier(n_estimators=200)\n",
    "model.fit(X, y_b)\n"
   ]
  },
  {
   "cell_type": "code",
   "execution_count": 58,
   "metadata": {},
   "outputs": [
    {
     "data": {
      "text/plain": [
       "['XGB_200.pkl']"
      ]
     },
     "execution_count": 58,
     "metadata": {},
     "output_type": "execute_result"
    }
   ],
   "source": [
    "import joblib\n",
    "\n",
    "# Save\n",
    "joblib.dump(model, \"XGB_200.pkl\")"
   ]
  },
  {
   "cell_type": "code",
   "execution_count": null,
   "metadata": {},
   "outputs": [],
   "source": []
  },
  {
   "cell_type": "code",
   "execution_count": 59,
   "metadata": {},
   "outputs": [
    {
     "name": "stdout",
     "output_type": "stream",
     "text": [
      "[np.float64(1.0791795682806162), np.float64(0.3842366032165473), np.float64(0.33124044040322775), np.float64(0.5648651671224987), np.float64(0.9925335922614721), np.float64(2.1017405191602645), np.float64(-0.15122658756126733), np.float64(-0.149942578972266), np.float64(3.057105373812355), np.float64(2.538891420926413), np.float64(-0.5050465972942744), np.float64(0.30197977239632917), np.float64(0.003923774175697326), np.float64(0.003901461369069576), np.float64(-0.006940315533259173), np.float64(-0.010179835723820684), np.float64(-0.012089743896783777), np.float64(7.199469573738197), np.float64(0.8012708760581772), np.float64(-0.010760010199871214), np.float64(4.231522537166005), np.float64(1.6283187412699602), np.float64(0.6819013122426192), np.float64(2.577450314448892), np.float64(-0.3085695169187371), np.int64(0), np.int64(0), np.int64(0), np.int64(0), np.False_, np.False_, np.True_, np.False_, np.False_, np.True_, np.False_, np.False_, np.False_, np.False_, np.False_, np.True_, np.False_, np.False_, np.False_, np.False_, np.True_, np.False_, np.False_, np.False_, np.True_, np.False_, np.False_, np.False_, np.True_, np.False_, np.False_, np.False_, np.False_, np.False_, np.False_, np.False_]\n",
      "[np.float64(0.0008906760055194332), np.float64(0.013041817185666328), np.float64(0.06058242048730459), np.float64(0.034034891596615165), np.float64(1.2583637963066654), np.float64(-0.47582589426650873), np.float64(-0.23868843131529927), np.float64(-0.2479319093581923), np.float64(3.057105373812355), np.float64(2.538891420926413), np.float64(-0.5050465972942744), np.float64(0.30197977239632917), np.float64(0.0039237741715550025), np.float64(0.0039014613683139125), np.float64(-0.006940315533259173), np.float64(-0.010179835723820684), np.float64(0.01030799223540718), np.float64(0.4283441675823014), np.float64(2.9560601467197944), np.float64(-0.022681766396151912), np.float64(0.016242066941899197), np.float64(0.025717781248083), np.float64(-0.009777232755932074), np.float64(3.956933699397974), np.float64(0.2351113775644677), np.int64(0), np.int64(0), np.int64(0), np.int64(0), np.False_, np.False_, np.True_, np.False_, np.False_, np.True_, np.False_, np.False_, np.False_, np.False_, np.False_, np.True_, np.False_, np.False_, np.False_, np.False_, np.True_, np.False_, np.False_, np.False_, np.True_, np.False_, np.False_, np.False_, np.False_, np.False_, np.False_, np.True_, np.False_, np.False_, np.False_, np.False_]\n",
      "[np.float64(-0.00476109898019818), np.float64(-0.010526105736929286), np.float64(-0.008219282422826801), np.float64(-0.012461190931199453), np.float64(-0.9568879040699461), np.float64(-0.47582589426650873), np.float64(-0.23868843131529927), np.float64(-0.2479319093581923), np.float64(-0.6994969117427188), np.float64(-0.46693887132086237), np.float64(-0.2985698027142942), np.float64(-1.2346819134900981), np.float64(0.003923774171533291), np.float64(0.003901461368121822), np.float64(-0.006940315533259173), np.float64(-0.010179835723820684), np.float64(-0.012089743896783777), np.float64(-0.19082625226261568), np.float64(-0.1591316911091291), np.float64(-0.028015183641856435), np.float64(-0.012048406012625006), np.float64(-0.020070817609684915), np.float64(-0.009777232755932074), np.float64(-0.710201524735885), np.float64(-0.5752756627065675), np.int64(0), np.int64(0), np.int64(0), np.int64(0), np.False_, np.False_, np.True_, np.False_, np.False_, np.True_, np.False_, np.False_, np.False_, np.False_, np.False_, np.True_, np.False_, np.False_, np.False_, np.False_, np.True_, np.False_, np.False_, np.False_, np.True_, np.False_, np.False_, np.False_, np.True_, np.False_, np.False_, np.False_, np.False_, np.False_, np.False_, np.False_]\n",
      "[np.float64(1.260817847821605), np.float64(0.3115688408718775), np.float64(0.42799314213947987), np.float64(0.3130113867635029), np.float64(0.9925335922614721), np.float64(-0.47582589426650873), np.float64(-0.23868843131529927), np.float64(-0.2479319093581923), np.float64(1.1788042310348181), np.float64(2.538891420926413), np.float64(-0.5050465972942744), np.float64(0.30197977239632917), np.float64(0.003923774176395103), np.float64(0.0039014613693397044), np.float64(-0.006940315533259173), np.float64(-0.010179835723820684), np.float64(-0.012089743896783777), np.float64(138.45748331745475), np.float64(19.591620500752104), np.float64(-0.016093427445575736), np.float64(1.4873466605771577), np.float64(0.6209695663990659), np.float64(0.33606203974334353), np.float64(-0.6786029756987855), np.float64(3.051206342506315), np.int64(0), np.int64(0), np.int64(0), np.int64(0), np.False_, np.True_, np.False_, np.False_, np.False_, np.False_, np.True_, np.False_, np.False_, np.False_, np.False_, np.True_, np.False_, np.False_, np.False_, np.False_, np.True_, np.False_, np.False_, np.False_, np.True_, np.False_, np.False_, np.False_, np.True_, np.False_, np.False_, np.False_, np.False_, np.False_, np.False_, np.False_]\n",
      "[np.float64(0.038304030910973556), np.float64(0.0012578557243685213), np.float64(0.004434807731142815), np.float64(0.03790956514059971), np.float64(0.9925335922614721), np.float64(-0.47582589426650873), np.float64(-0.23868843131529927), np.float64(-0.2479319093581923), np.float64(3.057105373812355), np.float64(1.275451765119179), np.float64(-0.5050465972942744), np.float64(0.30197977239632917), np.float64(0.003923774171698728), np.float64(0.003901461368157151), np.float64(-0.006940315533259173), np.float64(-0.010179835723820684), np.float64(-0.012089743896783777), np.float64(4.527099465370506), np.float64(0.41381805715927783), np.float64(-0.026132801084548955), np.float64(0.15769443171452022), np.float64(-0.020070817609684915), np.float64(0.33606203974334353), np.float64(0.4268294419004975), np.float64(-0.3802832193865574), np.int64(0), np.int64(0), np.int64(0), np.int64(0), np.False_, np.False_, np.True_, np.False_, np.False_, np.True_, np.False_, np.False_, np.False_, np.False_, np.False_, np.True_, np.False_, np.False_, np.False_, np.False_, np.True_, np.False_, np.False_, np.False_, np.True_, np.False_, np.False_, np.False_, np.True_, np.False_, np.False_, np.False_, np.False_, np.False_, np.False_, np.False_]\n",
      "[np.float64(-0.004628526480533198), np.float64(-0.010526105736929286), np.float64(-0.008219282422826801), np.float64(-0.012461190931199453), np.float64(-1.134108040100075), np.float64(-0.47582589426650873), np.float64(-0.23868843131529927), np.float64(-0.2479319093581923), np.float64(-0.6994969117427188), np.float64(-0.42771443756214106), np.float64(0.6821949715406116), np.float64(-1.2346819134900981), np.float64(0.0039237741715338), np.float64(0.003901461368121822), np.float64(-0.006940315533259173), np.float64(-0.010179835723820684), np.float64(-0.012089743896783777), np.float64(-0.17630250167366085), np.float64(-0.1591316911091291), np.float64(-0.028015183641856435), np.float64(-0.012048406012625006), np.float64(-0.020070817609684915), np.float64(-0.009777232755932074), np.float64(-0.785801791591002), np.float64(-0.5752756627065675), np.int64(0), np.int64(0), np.int64(0), np.int64(0), np.False_, np.True_, np.False_, np.False_, np.False_, np.True_, np.False_, np.False_, np.False_, np.False_, np.False_, np.True_, np.False_, np.False_, np.False_, np.False_, np.False_, np.True_, np.False_, np.False_, np.False_, np.True_, np.False_, np.False_, np.True_, np.False_, np.False_, np.False_, np.False_, np.False_, np.False_, np.False_]\n",
      "[np.float64(-0.00476109898019818), np.float64(-0.010526105736929286), np.float64(-0.008219282422826801), np.float64(-0.012461190931199453), np.float64(-0.9568879040699461), np.float64(-0.47582589426650873), np.float64(-0.23868843131529927), np.float64(-0.2479319093581923), np.float64(-0.6994969117427188), np.float64(-0.46693887132086237), np.float64(-0.2985698027142942), np.float64(-1.2346819134900981), np.float64(0.003923774171533291), np.float64(0.003901461368121822), np.float64(-0.006940315533259173), np.float64(-0.010179835723820684), np.float64(-0.012089743896783777), np.float64(-0.19082625226261568), np.float64(-0.1591316911091291), np.float64(-0.028015183641856435), np.float64(-0.012048406012625006), np.float64(-0.020070817609684915), np.float64(-0.009777232755932074), np.float64(-0.710201524735885), np.float64(-0.5752756627065675), np.int64(0), np.int64(0), np.int64(0), np.int64(0), np.False_, np.True_, np.False_, np.False_, np.False_, np.True_, np.False_, np.False_, np.False_, np.False_, np.False_, np.True_, np.False_, np.False_, np.False_, np.False_, np.True_, np.False_, np.False_, np.False_, np.True_, np.False_, np.False_, np.False_, np.True_, np.False_, np.False_, np.False_, np.False_, np.False_, np.False_, np.False_]\n",
      "[np.float64(1.0791795682806162), np.float64(0.3842366032165473), np.float64(0.33124044040322775), np.float64(0.5648651671224987), np.float64(0.9925335922614721), np.float64(2.1017405191602645), np.float64(-0.15122658756126733), np.float64(-0.149942578972266), np.float64(3.057105373812355), np.float64(2.538891420926413), np.float64(-0.5050465972942744), np.float64(0.30197977239632917), np.float64(0.003923774175697326), np.float64(0.003901461369069576), np.float64(-0.006940315533259173), np.float64(-0.010179835723820684), np.float64(-0.012089743896783777), np.float64(7.199469573738197), np.float64(0.8012708760581772), np.float64(-0.010760010199871214), np.float64(4.231522537166005), np.float64(1.6283187412699602), np.float64(0.6819013122426192), np.float64(2.577450314448892), np.float64(-0.3085695169187371), np.int64(0), np.int64(0), np.int64(0), np.int64(0), np.False_, np.False_, np.True_, np.False_, np.False_, np.True_, np.False_, np.False_, np.False_, np.False_, np.False_, np.True_, np.False_, np.False_, np.False_, np.False_, np.True_, np.False_, np.False_, np.False_, np.True_, np.False_, np.False_, np.False_, np.True_, np.False_, np.False_, np.False_, np.False_, np.False_, np.False_, np.False_]\n",
      "[np.float64(-0.00476109898019818), np.float64(-0.010526105736929286), np.float64(-0.007826298256554454), np.float64(-0.008586517387214903), np.float64(0.8153134562313432), np.float64(-0.47582589426650873), np.float64(-0.23868843131529927), np.float64(-0.2479319093581923), np.float64(-0.6994969117427188), np.float64(-0.46693887132086237), np.float64(-0.5050465972942744), np.float64(0.30197977239632917), np.float64(0.003923774171533291), np.float64(0.003901461368122919), np.float64(-0.006940315533259173), np.float64(-0.010179835723820684), np.float64(-0.012089743896783777), np.float64(-0.19082625226261568), np.float64(-0.14133822066601087), np.float64(-0.027701453215638522), np.float64(-0.012048406012625006), np.float64(-0.020070817609684915), np.float64(-0.009777232755932074), np.float64(-0.710201524735885), np.float64(-0.5752756627065675), np.int64(0), np.int64(0), np.int64(0), np.int64(0), np.False_, np.False_, np.True_, np.False_, np.False_, np.True_, np.False_, np.False_, np.False_, np.False_, np.False_, np.True_, np.False_, np.False_, np.False_, np.False_, np.True_, np.False_, np.False_, np.False_, np.True_, np.False_, np.False_, np.False_, np.True_, np.False_, np.False_, np.False_, np.False_, np.False_, np.False_, np.False_]\n",
      "[np.float64(-0.0009374289898608317), np.float64(-0.0007061378525144468), np.float64(0.0036488393985981186), np.float64(0.006912176788723304), np.float64(1.4355839323367945), np.float64(-0.47582589426650873), np.float64(-0.23868843131529927), np.float64(-0.2479319093581923), np.float64(1.1788042310348181), np.float64(1.275451765119179), np.float64(-0.5050465972942744), np.float64(0.30197977239632917), np.float64(0.0039237741715479795), np.float64(0.0039014613681549568), np.float64(-0.006940315533259173), np.float64(-0.010179835723820684), np.float64(-0.012089743896783777), np.float64(0.22806929103987142), np.float64(0.37823111627304135), np.float64(-0.02644653151076687), np.float64(0.1011134858054718), np.float64(-0.020070817609684915), np.float64(0.039628377601107295), np.float64(-0.6532060110521446), np.float64(1.9116134436155874), np.int64(0), np.int64(0), np.int64(0), np.int64(0), np.False_, np.True_, np.False_, np.False_, np.False_, np.False_, np.True_, np.False_, np.False_, np.False_, np.False_, np.True_, np.False_, np.False_, np.False_, np.False_, np.True_, np.False_, np.False_, np.False_, np.True_, np.False_, np.False_, np.False_, np.True_, np.False_, np.False_, np.False_, np.False_, np.False_, np.False_, np.False_]\n"
     ]
    }
   ],
   "source": [
    "print(list(X.iloc[0].values))\n",
    "print(list(X.iloc[345].values))\n",
    "print(list(X.iloc[6546].values))\n",
    "print(list(X.iloc[23].values))\n",
    "print(list(X.iloc[87].values))\n",
    "print(list(X.iloc[9].values))\n",
    "print(list(X.iloc[678].values))\n",
    "print(list(X.iloc[0].values))\n",
    "print(list(X.iloc[235].values))\n",
    "print(list(X.iloc[98].values))"
   ]
  },
  {
   "cell_type": "code",
   "execution_count": null,
   "metadata": {},
   "outputs": [],
   "source": []
  }
 ],
 "metadata": {
  "kernelspec": {
   "display_name": "Python 3 (ipykernel)",
   "language": "python",
   "name": "python3"
  },
  "language_info": {
   "codemirror_mode": {
    "name": "ipython",
    "version": 3
   },
   "file_extension": ".py",
   "mimetype": "text/x-python",
   "name": "python",
   "nbconvert_exporter": "python",
   "pygments_lexer": "ipython3",
   "version": "3.9.23"
  }
 },
 "nbformat": 4,
 "nbformat_minor": 4
}
